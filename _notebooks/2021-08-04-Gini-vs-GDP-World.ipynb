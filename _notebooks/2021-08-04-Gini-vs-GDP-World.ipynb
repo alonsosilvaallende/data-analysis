{
 "cells": [
  {
   "cell_type": "markdown",
   "metadata": {},
   "source": [
    "# Gini vs GDP per cápita\n",
    "> Gini vs GDP per cápita.\n",
    "\n",
    "- toc: true \n",
    "- badges: true\n",
    "- comments: true\n",
    "- categories: [jupyter]\n",
    "- image: images/chart-preview.png"
   ]
  },
  {
   "cell_type": "code",
   "execution_count": 1,
   "metadata": {
    "ExecuteTime": {
     "end_time": "2021-08-05T15:15:13.863482Z",
     "start_time": "2021-08-05T15:15:12.745524Z"
    }
   },
   "outputs": [],
   "source": [
    "#hide\n",
    "%reload_ext autoreload\n",
    "%autoreload 2\n",
    "%matplotlib inline"
   ]
  },
  {
   "cell_type": "code",
   "execution_count": 2,
   "metadata": {
    "ExecuteTime": {
     "end_time": "2021-08-05T15:16:29.612078Z",
     "start_time": "2021-08-05T15:15:14.621234Z"
    }
   },
   "outputs": [
    {
     "data": {
      "text/html": [
       "\n",
       "<div id=\"altair-viz-61229d4433f64507810c4ccff5cd4b6b\"></div>\n",
       "<script type=\"text/javascript\">\n",
       "  (function(spec, embedOpt){\n",
       "    let outputDiv = document.currentScript.previousElementSibling;\n",
       "    if (outputDiv.id !== \"altair-viz-61229d4433f64507810c4ccff5cd4b6b\") {\n",
       "      outputDiv = document.getElementById(\"altair-viz-61229d4433f64507810c4ccff5cd4b6b\");\n",
       "    }\n",
       "    const paths = {\n",
       "      \"vega\": \"https://cdn.jsdelivr.net/npm//vega@5?noext\",\n",
       "      \"vega-lib\": \"https://cdn.jsdelivr.net/npm//vega-lib?noext\",\n",
       "      \"vega-lite\": \"https://cdn.jsdelivr.net/npm//vega-lite@4.8.1?noext\",\n",
       "      \"vega-embed\": \"https://cdn.jsdelivr.net/npm//vega-embed@6?noext\",\n",
       "    };\n",
       "\n",
       "    function loadScript(lib) {\n",
       "      return new Promise(function(resolve, reject) {\n",
       "        var s = document.createElement('script');\n",
       "        s.src = paths[lib];\n",
       "        s.async = true;\n",
       "        s.onload = () => resolve(paths[lib]);\n",
       "        s.onerror = () => reject(`Error loading script: ${paths[lib]}`);\n",
       "        document.getElementsByTagName(\"head\")[0].appendChild(s);\n",
       "      });\n",
       "    }\n",
       "\n",
       "    function showError(err) {\n",
       "      outputDiv.innerHTML = `<div class=\"error\" style=\"color:red;\">${err}</div>`;\n",
       "      throw err;\n",
       "    }\n",
       "\n",
       "    function displayChart(vegaEmbed) {\n",
       "      vegaEmbed(outputDiv, spec, embedOpt)\n",
       "        .catch(err => showError(`Javascript Error: ${err.message}<br>This usually means there's a typo in your chart specification. See the javascript console for the full traceback.`));\n",
       "    }\n",
       "\n",
       "    if(typeof define === \"function\" && define.amd) {\n",
       "      requirejs.config({paths});\n",
       "      require([\"vega-embed\"], displayChart, err => showError(`Error loading script: ${err.message}`));\n",
       "    } else if (typeof vegaEmbed === \"function\") {\n",
       "      displayChart(vegaEmbed);\n",
       "    } else {\n",
       "      loadScript(\"vega\")\n",
       "        .then(() => loadScript(\"vega-lite\"))\n",
       "        .then(() => loadScript(\"vega-embed\"))\n",
       "        .catch(showError)\n",
       "        .then(() => displayChart(vegaEmbed));\n",
       "    }\n",
       "  })({\"config\": {\"view\": {\"continuousWidth\": 400, \"continuousHeight\": 300}}, \"data\": {\"name\": \"data-8a7eaf0e0df89529ce112d32c7b2bd29\"}, \"mark\": \"circle\", \"encoding\": {\"size\": {\"type\": \"quantitative\", \"field\": \"Population\", \"scale\": {\"type\": \"sqrt\"}}, \"tooltip\": [{\"type\": \"nominal\", \"field\": \"Country\"}, {\"type\": \"quantitative\", \"field\": \"GDP\"}, {\"type\": \"quantitative\", \"field\": \"Population\"}], \"x\": {\"type\": \"quantitative\", \"field\": \"GDP\", \"scale\": {\"domain\": [731, 120000], \"type\": \"log\"}, \"title\": \"PIB per c\\u00e1pita (USD ajustados por inflaci\\u00f3n a valor 2010) (escala logar\\u00edtmica)\"}, \"y\": {\"type\": \"quantitative\", \"field\": \"Gini\", \"scale\": {\"domain\": [20, 65]}, \"title\": \"\\u00cdndice de Gini\"}}, \"selection\": {\"selector001\": {\"type\": \"interval\", \"bind\": \"scales\", \"encodings\": [\"x\", \"y\"]}}, \"$schema\": \"https://vega.github.io/schema/vega-lite/v4.8.1.json\", \"datasets\": {\"data-8a7eaf0e0df89529ce112d32c7b2bd29\": [{\"Country\": \"Albania\", \"Gini\": 33.2, \"GDP\": 13295.4108845409, \"Population\": 2837743.0}, {\"Country\": \"Algeria\", \"Gini\": 27.6, \"GDP\": 10681.6792969827, \"Population\": 43851043.0}, {\"Country\": \"Angola\", \"Gini\": 51.3, \"GDP\": 6198.08384070806, \"Population\": 32866268.0}, {\"Country\": \"Argentina\", \"Gini\": 42.9, \"GDP\": 19686.523658911, \"Population\": 45376763.0}, {\"Country\": \"Armenia\", \"Gini\": 29.9, \"GDP\": 12592.6353675009, \"Population\": 2963234.0}, {\"Country\": \"Australia\", \"Gini\": 34.4, \"GDP\": 48697.8370282475, \"Population\": 25687041.0}, {\"Country\": \"Austria\", \"Gini\": 30.8, \"GDP\": 51935.6038618156, \"Population\": 8917205.0}, {\"Country\": \"Azerbaijan\", \"Gini\": 26.6, \"GDP\": 13699.665590318, \"Population\": 10110116.0}, {\"Country\": \"Bangladesh\", \"Gini\": 32.4, \"GDP\": 4818.09473660531, \"Population\": 164689383.0}, {\"Country\": \"Belarus\", \"Gini\": 25.3, \"GDP\": 19148.1751007952, \"Population\": 9398861.0}, {\"Country\": \"Belgium\", \"Gini\": 27.2, \"GDP\": 48210.0331113444, \"Population\": 11555997.0}, {\"Country\": \"Belize\", \"Gini\": 53.3, \"GDP\": 6119.88768686154, \"Population\": 397621.0}, {\"Country\": \"Benin\", \"Gini\": 47.8, \"GDP\": 3323.14445067303, \"Population\": 12123198.0}, {\"Country\": \"Bhutan\", \"Gini\": 37.4, \"GDP\": 10909.1001689407, \"Population\": 771612.0}, {\"Country\": \"Bolivia\", \"Gini\": 41.6, \"GDP\": 7931.75430931062, \"Population\": 11673029.0}, {\"Country\": \"Bosnia and Herzegovina\", \"Gini\": 33.0, \"GDP\": 14339.8311811662, \"Population\": 3280815.0}, {\"Country\": \"Botswana\", \"Gini\": 53.3, \"GDP\": 16040.0084730125, \"Population\": 2351625.0}, {\"Country\": \"Brazil\", \"Gini\": 53.4, \"GDP\": 14063.9825053838, \"Population\": 212559409.0}, {\"Country\": \"Bulgaria\", \"Gini\": 41.3, \"GDP\": 22383.8055436428, \"Population\": 6927288.0}, {\"Country\": \"Burkina Faso\", \"Gini\": 35.3, \"GDP\": 2160.51152951619, \"Population\": 20903278.0}, {\"Country\": \"Burundi\", \"Gini\": 38.6, \"GDP\": 731.063229715588, \"Population\": 11890781.0}, {\"Country\": \"Cabo Verde\", \"Gini\": 42.4, \"GDP\": 6045.06088485291, \"Population\": 555988.0}, {\"Country\": \"Cameroon\", \"Gini\": 46.6, \"GDP\": 3576.34949945049, \"Population\": 26545864.0}, {\"Country\": \"Canada\", \"Gini\": 33.3, \"GDP\": 45856.6256264804, \"Population\": 38005238.0}, {\"Country\": \"Central African Republic\", \"Gini\": 56.2, \"GDP\": 928.589507504538, \"Population\": 4829764.0}, {\"Country\": \"Chad\", \"Gini\": 43.3, \"GDP\": 1519.91236158763, \"Population\": 16425859.0}, {\"Country\": \"Chile\", \"Gini\": 44.4, \"GDP\": 23324.5247506509, \"Population\": 19116209.0}, {\"Country\": \"China\", \"Gini\": 38.5, \"GDP\": 16410.7977967813, \"Population\": 1402112000.0}, {\"Country\": \"Colombia\", \"Gini\": 51.3, \"GDP\": 13441.4929522564, \"Population\": 50882884.0}, {\"Country\": \"Comoros\", \"Gini\": 45.3, \"GDP\": 3140.69877162092, \"Population\": 869595.0}, {\"Country\": \"Congo, Dem. Rep.\", \"Gini\": 42.1, \"GDP\": 1072.21011269575, \"Population\": 89561404.0}, {\"Country\": \"Congo, Rep.\", \"Gini\": 48.9, \"GDP\": 3449.1456948178, \"Population\": 5518092.0}, {\"Country\": \"Costa Rica\", \"Gini\": 48.2, \"GDP\": 19679.2886412163, \"Population\": 5094114.0}, {\"Country\": \"Cote d'Ivoire\", \"Gini\": 41.5, \"GDP\": 5174.10055275463, \"Population\": 26378275.0}, {\"Country\": \"Croatia\", \"Gini\": 29.7, \"GDP\": 26465.1273096002, \"Population\": 4047200.0}, {\"Country\": \"Cyprus\", \"Gini\": 32.7, \"GDP\": 37655.1803457421, \"Population\": 1207361.0}, {\"Country\": \"Czech Republic\", \"Gini\": 25.0, \"GDP\": 38319.3376633108, \"Population\": 10698896.0}, {\"Country\": \"Denmark\", \"Gini\": 28.2, \"GDP\": 55938.2128086032, \"Population\": 5831404.0}, {\"Country\": \"Djibouti\", \"Gini\": 41.6, \"GDP\": 5481.11481697609, \"Population\": 988002.0}, {\"Country\": \"Dominican Republic\", \"Gini\": 41.9, \"GDP\": 17003.0130205346, \"Population\": 10847904.0}, {\"Country\": \"Ecuador\", \"Gini\": 45.7, \"GDP\": 10329.1987527594, \"Population\": 17643060.0}, {\"Country\": \"Egypt, Arab Rep.\", \"Gini\": 31.5, \"GDP\": 11951.4475270117, \"Population\": 102334403.0}, {\"Country\": \"El Salvador\", \"Gini\": 38.8, \"GDP\": 8056.54308612849, \"Population\": 6486201.0}, {\"Country\": \"Estonia\", \"Gini\": 30.3, \"GDP\": 35638.4213511812, \"Population\": 1331057.0}, {\"Country\": \"Eswatini\", \"Gini\": 54.6, \"GDP\": 8392.71756391091, \"Population\": 1160164.0}, {\"Country\": \"Ethiopia\", \"Gini\": 35.0, \"GDP\": 2296.82735215213, \"Population\": 114963583.0}, {\"Country\": \"Fiji\", \"Gini\": 36.7, \"GDP\": 10997.4734903847, \"Population\": 896444.0}, {\"Country\": \"Finland\", \"Gini\": 27.3, \"GDP\": 47260.800458441, \"Population\": 5530719.0}, {\"Country\": \"France\", \"Gini\": 32.4, \"GDP\": 42025.6173730617, \"Population\": 67391582.0}, {\"Country\": \"Gabon\", \"Gini\": 38.0, \"GDP\": 14399.8688094117, \"Population\": 2225728.0}, {\"Country\": \"Gambia, The\", \"Gini\": 35.9, \"GDP\": 2159.44190927585, \"Population\": 2416664.0}, {\"Country\": \"Georgia\", \"Gini\": 35.9, \"GDP\": 14089.3023335327, \"Population\": 3714000.0}, {\"Country\": \"Germany\", \"Gini\": 31.9, \"GDP\": 50922.3580234484, \"Population\": 83240525.0}, {\"Country\": \"Ghana\", \"Gini\": 43.5, \"GDP\": 5304.98352460298, \"Population\": 31072945.0}, {\"Country\": \"Greece\", \"Gini\": 32.9, \"GDP\": 27287.0834009302, \"Population\": 10715549.0}, {\"Country\": \"Guatemala\", \"Gini\": 48.3, \"GDP\": 8393.28464317623, \"Population\": 16858333.0}, {\"Country\": \"Guinea\", \"Gini\": 33.7, \"GDP\": 2670.82335507161, \"Population\": 13132792.0}, {\"Country\": \"Guinea-Bissau\", \"Gini\": 50.7, \"GDP\": 1847.46582390878, \"Population\": 1967998.0}, {\"Country\": \"Guyana\", \"Gini\": 45.1, \"GDP\": 18679.9802308198, \"Population\": 786559.0}, {\"Country\": \"Haiti\", \"Gini\": 41.1, \"GDP\": 2773.08136431323, \"Population\": 11402533.0}, {\"Country\": \"Honduras\", \"Gini\": 48.2, \"GDP\": 5138.38539820015, \"Population\": 9904608.0}, {\"Country\": \"Hungary\", \"Gini\": 29.6, \"GDP\": 31007.7684065437, \"Population\": 9749763.0}, {\"Country\": \"Iceland\", \"Gini\": 26.1, \"GDP\": 52279.7288513646, \"Population\": 366425.0}, {\"Country\": \"India\", \"Gini\": 35.7, \"GDP\": 6118.35733018965, \"Population\": 1380004385.0}, {\"Country\": \"Indonesia\", \"Gini\": 38.2, \"GDP\": 11444.9606828103, \"Population\": 273523621.0}, {\"Country\": \"Iran, Islamic Rep.\", \"Gini\": 42.0, \"GDP\": 12433.2969754764, \"Population\": 83992953.0}, {\"Country\": \"Iraq\", \"Gini\": 29.5, \"GDP\": 9255.25690289807, \"Population\": 40222503.0}, {\"Country\": \"Ireland\", \"Gini\": 31.4, \"GDP\": 89688.9569584859, \"Population\": 4994724.0}, {\"Country\": \"Israel\", \"Gini\": 39.0, \"GDP\": 38341.3075704083, \"Population\": 9216900.0}, {\"Country\": \"Italy\", \"Gini\": 35.9, \"GDP\": 38992.1483807498, \"Population\": 59554023.0}, {\"Country\": \"Jamaica\", \"Gini\": 45.5, \"GDP\": 8741.55044328036, \"Population\": 2961161.0}, {\"Country\": \"Japan\", \"Gini\": 32.9, \"GDP\": 41380.0935773113, \"Population\": 125836021.0}, {\"Country\": \"Jordan\", \"Gini\": 33.7, \"GDP\": 9816.55452971638, \"Population\": 10203140.0}, {\"Country\": \"Kazakhstan\", \"Gini\": 27.8, \"GDP\": 25337.152399391, \"Population\": 18754440.0}, {\"Country\": \"Kenya\", \"Gini\": 40.8, \"GDP\": 4220.44024846369, \"Population\": 53771300.0}, {\"Country\": \"Kiribati\", \"Gini\": 37.0, \"GDP\": 2291.90721878662, \"Population\": 119446.0}, {\"Country\": \"Korea, Rep.\", \"Gini\": 31.4, \"GDP\": 42251.4450571656, \"Population\": 51780579.0}, {\"Country\": \"Kosovo\", \"Gini\": 29.0, \"GDP\": 10776.095247312, \"Population\": 1775378.0}, {\"Country\": \"Kyrgyz Republic\", \"Gini\": 29.7, \"GDP\": 4706.57023774883, \"Population\": 6591600.0}, {\"Country\": \"Lao PDR\", \"Gini\": 38.8, \"GDP\": 7805.79855611968, \"Population\": 7275556.0}, {\"Country\": \"Latvia\", \"Gini\": 35.1, \"GDP\": 29932.4939100562, \"Population\": 1901548.0}, {\"Country\": \"Lebanon\", \"Gini\": 31.8, \"GDP\": 11649.0501121276, \"Population\": 6825442.0}, {\"Country\": \"Lesotho\", \"Gini\": 44.9, \"GDP\": 2279.89587402333, \"Population\": 2142252.0}, {\"Country\": \"Liberia\", \"Gini\": 35.3, \"GDP\": 1353.84291976355, \"Population\": 5057677.0}, {\"Country\": \"Lithuania\", \"Gini\": 35.7, \"GDP\": 36732.034744031, \"Population\": 2794700.0}, {\"Country\": \"Luxembourg\", \"Gini\": 35.4, \"GDP\": 110261.157353302, \"Population\": 632275.0}, {\"Country\": \"Madagascar\", \"Gini\": 42.6, \"GDP\": 1510.14172617809, \"Population\": 27691019.0}, {\"Country\": \"Malawi\", \"Gini\": 44.7, \"GDP\": 1486.77824843475, \"Population\": 19129955.0}, {\"Country\": \"Malaysia\", \"Gini\": 41.1, \"GDP\": 26435.1715707484, \"Population\": 32365998.0}, {\"Country\": \"Maldives\", \"Gini\": 31.3, \"GDP\": 13049.0466602078, \"Population\": 540542.0}, {\"Country\": \"Mali\", \"Gini\": 33.0, \"GDP\": 2216.77326231685, \"Population\": 20250834.0}, {\"Country\": \"Malta\", \"Gini\": 28.7, \"GDP\": 39222.1433509207, \"Population\": 525285.0}, {\"Country\": \"Mauritania\", \"Gini\": 32.6, \"GDP\": 4983.2206333331, \"Population\": 4649660.0}, {\"Country\": \"Mauritius\", \"Gini\": 36.8, \"GDP\": 19469.5245883739, \"Population\": 1265740.0}, {\"Country\": \"Mexico\", \"Gini\": 45.4, \"GDP\": 17887.7507356971, \"Population\": 128932753.0}, {\"Country\": \"Micronesia, Fed. Sts.\", \"Gini\": 40.1, \"GDP\": 3466.41329281782, \"Population\": 115021.0}, {\"Country\": \"Moldova\", \"Gini\": 25.7, \"GDP\": 12324.7362793838, \"Population\": 2617820.0}, {\"Country\": \"Mongolia\", \"Gini\": 32.7, \"GDP\": 11470.6738325698, \"Population\": 3278292.0}, {\"Country\": \"Montenegro\", \"Gini\": 38.5, \"GDP\": 18278.730791552, \"Population\": 621718.0}, {\"Country\": \"Morocco\", \"Gini\": 39.5, \"GDP\": 6916.34641150088, \"Population\": 36910558.0}, {\"Country\": \"Mozambique\", \"Gini\": 54.0, \"GDP\": 1229.08001865892, \"Population\": 31255435.0}, {\"Country\": \"Myanmar\", \"Gini\": 30.7, \"GDP\": 4544.02156851419, \"Population\": 54409794.0}, {\"Country\": \"Namibia\", \"Gini\": 59.1, \"GDP\": 8893.81315720283, \"Population\": 2540916.0}, {\"Country\": \"Nauru\", \"Gini\": 34.8, \"GDP\": 13527.411941066, \"Population\": 10834.0}, {\"Country\": \"Nepal\", \"Gini\": 32.8, \"GDP\": 3800.06570306646, \"Population\": 29136808.0}, {\"Country\": \"Netherlands\", \"Gini\": 28.1, \"GDP\": 54209.5638357302, \"Population\": 17441139.0}, {\"Country\": \"Nicaragua\", \"Gini\": 46.2, \"GDP\": 5280.14058082508, \"Population\": 6624554.0}, {\"Country\": \"Niger\", \"Gini\": 34.3, \"GDP\": 1196.87755957473, \"Population\": 24206636.0}, {\"Country\": \"Nigeria\", \"Gini\": 35.1, \"GDP\": 4916.72138086439, \"Population\": 206139587.0}, {\"Country\": \"North Macedonia\", \"Gini\": 33.0, \"GDP\": 15848.4192939955, \"Population\": 2083380.0}, {\"Country\": \"Norway\", \"Gini\": 27.6, \"GDP\": 63585.9035142969, \"Population\": 5379475.0}, {\"Country\": \"Pakistan\", \"Gini\": 31.6, \"GDP\": 4622.77076938075, \"Population\": 220892331.0}, {\"Country\": \"Panama\", \"Gini\": 49.8, \"GDP\": 25381.8484472504, \"Population\": 4314768.0}, {\"Country\": \"Papua New Guinea\", \"Gini\": 41.9, \"GDP\": 4101.21888209216, \"Population\": 8947027.0}, {\"Country\": \"Paraguay\", \"Gini\": 45.7, \"GDP\": 12335.4723571841, \"Population\": 7132530.0}, {\"Country\": \"Peru\", \"Gini\": 41.5, \"GDP\": 11260.8457538125, \"Population\": 32971846.0}, {\"Country\": \"Philippines\", \"Gini\": 42.3, \"GDP\": 7953.58164428408, \"Population\": 109581085.0}, {\"Country\": \"Poland\", \"Gini\": 30.2, \"GDP\": 32238.157259275, \"Population\": 37950802.0}, {\"Country\": \"Portugal\", \"Gini\": 33.5, \"GDP\": 32181.1545372343, \"Population\": 10305564.0}, {\"Country\": \"Romania\", \"Gini\": 35.8, \"GDP\": 28832.6231487683, \"Population\": 19286123.0}, {\"Country\": \"Russian Federation\", \"Gini\": 37.5, \"GDP\": 26456.3879381321, \"Population\": 144104080.0}, {\"Country\": \"Rwanda\", \"Gini\": 43.7, \"GDP\": 2098.7103615481, \"Population\": 12952209.0}, {\"Country\": \"Samoa\", \"Gini\": 38.7, \"GDP\": 6295.73184093032, \"Population\": 198410.0}, {\"Country\": \"Sao Tome and Principe\", \"Gini\": 56.3, \"GDP\": 4051.60484448469, \"Population\": 219161.0}, {\"Country\": \"Senegal\", \"Gini\": 40.3, \"GDP\": 3300.0854932471, \"Population\": 16743930.0}, {\"Country\": \"Serbia\", \"Gini\": 36.2, \"GDP\": 18210.0046204616, \"Population\": 6908224.0}, {\"Country\": \"Seychelles\", \"Gini\": 32.1, \"GDP\": 24361.8939424167, \"Population\": 98462.0}, {\"Country\": \"Sierra Leone\", \"Gini\": 35.7, \"GDP\": 1648.05335993719, \"Population\": 7976985.0}, {\"Country\": \"Slovak Republic\", \"Gini\": 25.0, \"GDP\": 30330.0428870265, \"Population\": 5458827.0}, {\"Country\": \"Slovenia\", \"Gini\": 24.6, \"GDP\": 36547.7389559849, \"Population\": 2100126.0}, {\"Country\": \"Solomon Islands\", \"Gini\": 37.1, \"GDP\": 2482.87191978213, \"Population\": 686878.0}, {\"Country\": \"Somalia\", \"Gini\": 36.8, \"GDP\": 829.611428860091, \"Population\": 15893219.0}, {\"Country\": \"South Africa\", \"Gini\": 63.0, \"GDP\": 11466.189671582, \"Population\": 59308690.0}, {\"Country\": \"Spain\", \"Gini\": 34.7, \"GDP\": 36215.4475907307, \"Population\": 47351567.0}, {\"Country\": \"Sri Lanka\", \"Gini\": 39.3, \"GDP\": 12536.9417561704, \"Population\": 21919000.0}, {\"Country\": \"St. Lucia\", \"Gini\": 51.2, \"GDP\": 12270.0132882689, \"Population\": 183629.0}, {\"Country\": \"Sudan\", \"Gini\": 34.2, \"GDP\": 4022.86596657319, \"Population\": 43849269.0}, {\"Country\": \"Suriname\", \"Gini\": 57.9, \"GDP\": 16130.1708064491, \"Population\": 586634.0}, {\"Country\": \"Sweden\", \"Gini\": 30.0, \"GDP\": 50683.3235097178, \"Population\": 10353442.0}, {\"Country\": \"Switzerland\", \"Gini\": 33.1, \"GDP\": 68393.306003945, \"Population\": 8636896.0}, {\"Country\": \"Tajikistan\", \"Gini\": 34.0, \"GDP\": 3657.57350716538, \"Population\": 9537642.0}, {\"Country\": \"Tanzania\", \"Gini\": 40.5, \"GDP\": 2635.3358910827, \"Population\": 59734213.0}, {\"Country\": \"Thailand\", \"Gini\": 34.9, \"GDP\": 17286.866606887, \"Population\": 69799978.0}, {\"Country\": \"Timor-Leste\", \"Gini\": 28.7, \"GDP\": 3181.13718760249, \"Population\": 1318442.0}, {\"Country\": \"Togo\", \"Gini\": 43.1, \"GDP\": 2107.87726149934, \"Population\": 8278737.0}, {\"Country\": \"Tonga\", \"Gini\": 37.6, \"GDP\": 6378.1283460138, \"Population\": 105697.0}, {\"Country\": \"Trinidad and Tobago\", \"Gini\": 40.3, \"GDP\": 23728.1586459056, \"Population\": 1399491.0}, {\"Country\": \"Tunisia\", \"Gini\": 32.8, \"GDP\": 9727.50425926541, \"Population\": 11818618.0}, {\"Country\": \"Turkey\", \"Gini\": 41.9, \"GDP\": 28384.9877846263, \"Population\": 84339067.0}, {\"Country\": \"Turkmenistan\", \"Gini\": 40.8, \"GDP\": 15538.4199701316, \"Population\": 6031187.0}, {\"Country\": \"Tuvalu\", \"Gini\": 39.1, \"GDP\": 4411.00311573521, \"Population\": 11792.0}, {\"Country\": \"Uganda\", \"Gini\": 42.8, \"GDP\": 2177.59585383955, \"Population\": 45741000.0}, {\"Country\": \"Ukraine\", \"Gini\": 26.6, \"GDP\": 12377.0172931178, \"Population\": 44134693.0}, {\"Country\": \"United Arab Emirates\", \"Gini\": 26.0, \"GDP\": 67119.153244137, \"Population\": 9890400.0}, {\"Country\": \"United Kingdom\", \"Gini\": 35.1, \"GDP\": 41627.129269425, \"Population\": 67215293.0}, {\"Country\": \"United States\", \"Gini\": 41.4, \"GDP\": 60235.7284916969, \"Population\": 329484123.0}, {\"Country\": \"Uruguay\", \"Gini\": 39.7, \"GDP\": 21608.4302710014, \"Population\": 3473727.0}, {\"Country\": \"Uzbekistan\", \"Gini\": 35.3, \"GDP\": 6994.16941167262, \"Population\": 34232050.0}, {\"Country\": \"Vanuatu\", \"Gini\": 37.6, \"GDP\": 2762.791388307, \"Population\": 307150.0}, {\"Country\": \"Vietnam\", \"Gini\": 35.7, \"GDP\": 8200.33186703573, \"Population\": 97338583.0}, {\"Country\": \"West Bank and Gaza\", \"Gini\": 33.7, \"GDP\": 5394.07168818239, \"Population\": 4803269.0}, {\"Country\": \"Zambia\", \"Gini\": 57.1, \"GDP\": 3270.03511228554, \"Population\": 18383956.0}, {\"Country\": \"Zimbabwe\", \"Gini\": 50.3, \"GDP\": 2744.69075807126, \"Population\": 14862927.0}]}}, {\"mode\": \"vega-lite\"});\n",
       "</script>"
      ],
      "text/plain": [
       "alt.Chart(...)"
      ]
     },
     "execution_count": 2,
     "metadata": {},
     "output_type": "execute_result"
    }
   ],
   "source": [
    "#collapse-hide\n",
    "import numpy as np\n",
    "import pandas as pd\n",
    "import matplotlib.pyplot as plt\n",
    "plt.rcParams.update({'xtick.labelsize' : 14,\n",
    "                     'ytick.labelsize' : 14})\n",
    "import wbdata\n",
    "import seaborn as sns\n",
    "from scipy import stats\n",
    "from adjustText import adjust_text\n",
    "\n",
    "indicators = {'SI.POV.GINI':'Gini Index', \n",
    "              'NY.GDP.PCAP.PP.KD':'GDP per capita (constant 2010 US$)',\n",
    "              'SP.POP.TOTL':'Population'}\n",
    "\n",
    "data = wbdata.get_dataframe(indicators=indicators)\n",
    "\n",
    "data = data.reset_index()\n",
    "\n",
    "df = pd.DataFrame(columns= ['Country','Gini','GDP','Population'], index=None)\n",
    "for country in data[\"country\"].unique():\n",
    "    if data[data[\"country\"]==country]['Gini Index'].notna().sum() != 0 and data[data[\"country\"]==country]['GDP per capita (constant 2010 US$)'].notna().sum() != 0:\n",
    "        gini = [data[data[\"country\"]==country]['Gini Index'].iloc[i] for i in range(len(data[data[\"country\"]==country])) if data[data[\"country\"]==country]['Gini Index'].notna().iloc[i]]\n",
    "        gdp = [data[data[\"country\"]==country]['GDP per capita (constant 2010 US$)'].iloc[i] for i in range(len(data[data[\"country\"]==country])) if data[data[\"country\"]==country]['GDP per capita (constant 2010 US$)'].notna().iloc[i]]\n",
    "        pop = data[data[\"country\"]==country].iloc[0,-1]\n",
    "        df = df.append({'Country':country,\n",
    "                        'Gini':gini[0],\n",
    "                        'GDP':gdp[0],\n",
    "                        'Population':pop}, ignore_index=True)\n",
    "\n",
    "import altair as alt\n",
    "\n",
    "alt.Chart(df).mark_circle().encode(\n",
    "    x=alt.X('GDP',scale=alt.Scale(domain=[731,120000],type='log'), title='PIB per cápita (USD ajustados por inflación a valor 2010) (escala logarítmica)'),\n",
    "    y=alt.Y('Gini',scale=alt.Scale(domain=[20, 65]), title=\"Índice de Gini\"),\n",
    "    size=alt.Size('Population', scale=alt.Scale(type='sqrt')),\n",
    "    tooltip=['Country', 'GDP', 'Population']\n",
    ").interactive()"
   ]
  },
  {
   "cell_type": "code",
   "execution_count": 4,
   "metadata": {
    "ExecuteTime": {
     "end_time": "2021-08-05T15:18:07.290778Z",
     "start_time": "2021-08-05T15:18:07.088504Z"
    }
   },
   "outputs": [
    {
     "data": {
      "application/vnd.plotly.v1+json": {
       "config": {
        "plotlyServerURL": "https://plot.ly"
       },
       "data": [
        {
         "customdata": [
          [
           "Albania"
          ],
          [
           "Algeria"
          ],
          [
           "Angola"
          ],
          [
           "Argentina"
          ],
          [
           "Armenia"
          ],
          [
           "Australia"
          ],
          [
           "Austria"
          ],
          [
           "Azerbaijan"
          ],
          [
           "Bangladesh"
          ],
          [
           "Belarus"
          ],
          [
           "Belgium"
          ],
          [
           "Belize"
          ],
          [
           "Benin"
          ],
          [
           "Bhutan"
          ],
          [
           "Bolivia"
          ],
          [
           "Bosnia and Herzegovina"
          ],
          [
           "Botswana"
          ],
          [
           "Brazil"
          ],
          [
           "Bulgaria"
          ],
          [
           "Burkina Faso"
          ],
          [
           "Burundi"
          ],
          [
           "Cabo Verde"
          ],
          [
           "Cameroon"
          ],
          [
           "Canada"
          ],
          [
           "Central African Republic"
          ],
          [
           "Chad"
          ],
          [
           "Chile"
          ],
          [
           "China"
          ],
          [
           "Colombia"
          ],
          [
           "Comoros"
          ],
          [
           "Congo, Dem. Rep."
          ],
          [
           "Congo, Rep."
          ],
          [
           "Costa Rica"
          ],
          [
           "Cote d'Ivoire"
          ],
          [
           "Croatia"
          ],
          [
           "Cyprus"
          ],
          [
           "Czech Republic"
          ],
          [
           "Denmark"
          ],
          [
           "Djibouti"
          ],
          [
           "Dominican Republic"
          ],
          [
           "Ecuador"
          ],
          [
           "Egypt, Arab Rep."
          ],
          [
           "El Salvador"
          ],
          [
           "Estonia"
          ],
          [
           "Eswatini"
          ],
          [
           "Ethiopia"
          ],
          [
           "Fiji"
          ],
          [
           "Finland"
          ],
          [
           "France"
          ],
          [
           "Gabon"
          ],
          [
           "Gambia, The"
          ],
          [
           "Georgia"
          ],
          [
           "Germany"
          ],
          [
           "Ghana"
          ],
          [
           "Greece"
          ],
          [
           "Guatemala"
          ],
          [
           "Guinea"
          ],
          [
           "Guinea-Bissau"
          ],
          [
           "Guyana"
          ],
          [
           "Haiti"
          ],
          [
           "Honduras"
          ],
          [
           "Hungary"
          ],
          [
           "Iceland"
          ],
          [
           "India"
          ],
          [
           "Indonesia"
          ],
          [
           "Iran, Islamic Rep."
          ],
          [
           "Iraq"
          ],
          [
           "Ireland"
          ],
          [
           "Israel"
          ],
          [
           "Italy"
          ],
          [
           "Jamaica"
          ],
          [
           "Japan"
          ],
          [
           "Jordan"
          ],
          [
           "Kazakhstan"
          ],
          [
           "Kenya"
          ],
          [
           "Kiribati"
          ],
          [
           "Korea, Rep."
          ],
          [
           "Kosovo"
          ],
          [
           "Kyrgyz Republic"
          ],
          [
           "Lao PDR"
          ],
          [
           "Latvia"
          ],
          [
           "Lebanon"
          ],
          [
           "Lesotho"
          ],
          [
           "Liberia"
          ],
          [
           "Lithuania"
          ],
          [
           "Luxembourg"
          ],
          [
           "Madagascar"
          ],
          [
           "Malawi"
          ],
          [
           "Malaysia"
          ],
          [
           "Maldives"
          ],
          [
           "Mali"
          ],
          [
           "Malta"
          ],
          [
           "Mauritania"
          ],
          [
           "Mauritius"
          ],
          [
           "Mexico"
          ],
          [
           "Micronesia, Fed. Sts."
          ],
          [
           "Moldova"
          ],
          [
           "Mongolia"
          ],
          [
           "Montenegro"
          ],
          [
           "Morocco"
          ],
          [
           "Mozambique"
          ],
          [
           "Myanmar"
          ],
          [
           "Namibia"
          ],
          [
           "Nauru"
          ],
          [
           "Nepal"
          ],
          [
           "Netherlands"
          ],
          [
           "Nicaragua"
          ],
          [
           "Niger"
          ],
          [
           "Nigeria"
          ],
          [
           "North Macedonia"
          ],
          [
           "Norway"
          ],
          [
           "Pakistan"
          ],
          [
           "Panama"
          ],
          [
           "Papua New Guinea"
          ],
          [
           "Paraguay"
          ],
          [
           "Peru"
          ],
          [
           "Philippines"
          ],
          [
           "Poland"
          ],
          [
           "Portugal"
          ],
          [
           "Romania"
          ],
          [
           "Russian Federation"
          ],
          [
           "Rwanda"
          ],
          [
           "Samoa"
          ],
          [
           "Sao Tome and Principe"
          ],
          [
           "Senegal"
          ],
          [
           "Serbia"
          ],
          [
           "Seychelles"
          ],
          [
           "Sierra Leone"
          ],
          [
           "Slovak Republic"
          ],
          [
           "Slovenia"
          ],
          [
           "Solomon Islands"
          ],
          [
           "Somalia"
          ],
          [
           "South Africa"
          ],
          [
           "Spain"
          ],
          [
           "Sri Lanka"
          ],
          [
           "St. Lucia"
          ],
          [
           "Sudan"
          ],
          [
           "Suriname"
          ],
          [
           "Sweden"
          ],
          [
           "Switzerland"
          ],
          [
           "Tajikistan"
          ],
          [
           "Tanzania"
          ],
          [
           "Thailand"
          ],
          [
           "Timor-Leste"
          ],
          [
           "Togo"
          ],
          [
           "Tonga"
          ],
          [
           "Trinidad and Tobago"
          ],
          [
           "Tunisia"
          ],
          [
           "Turkey"
          ],
          [
           "Turkmenistan"
          ],
          [
           "Tuvalu"
          ],
          [
           "Uganda"
          ],
          [
           "Ukraine"
          ],
          [
           "United Arab Emirates"
          ],
          [
           "United Kingdom"
          ],
          [
           "United States"
          ],
          [
           "Uruguay"
          ],
          [
           "Uzbekistan"
          ],
          [
           "Vanuatu"
          ],
          [
           "Vietnam"
          ],
          [
           "West Bank and Gaza"
          ],
          [
           "Zambia"
          ],
          [
           "Zimbabwe"
          ]
         ],
         "hovertemplate": "GDP=%{x}<br>Gini=%{y}<br>Population=%{marker.size}<br>Country=%{customdata[0]}<extra></extra>",
         "legendgroup": "",
         "marker": {
          "color": "#636efa",
          "size": [
           2837743,
           43851043,
           32866268,
           45376763,
           2963234,
           25687041,
           8917205,
           10110116,
           164689383,
           9398861,
           11555997,
           397621,
           12123198,
           771612,
           11673029,
           3280815,
           2351625,
           212559409,
           6927288,
           20903278,
           11890781,
           555988,
           26545864,
           38005238,
           4829764,
           16425859,
           19116209,
           1402112000,
           50882884,
           869595,
           89561404,
           5518092,
           5094114,
           26378275,
           4047200,
           1207361,
           10698896,
           5831404,
           988002,
           10847904,
           17643060,
           102334403,
           6486201,
           1331057,
           1160164,
           114963583,
           896444,
           5530719,
           67391582,
           2225728,
           2416664,
           3714000,
           83240525,
           31072945,
           10715549,
           16858333,
           13132792,
           1967998,
           786559,
           11402533,
           9904608,
           9749763,
           366425,
           1380004385,
           273523621,
           83992953,
           40222503,
           4994724,
           9216900,
           59554023,
           2961161,
           125836021,
           10203140,
           18754440,
           53771300,
           119446,
           51780579,
           1775378,
           6591600,
           7275556,
           1901548,
           6825442,
           2142252,
           5057677,
           2794700,
           632275,
           27691019,
           19129955,
           32365998,
           540542,
           20250834,
           525285,
           4649660,
           1265740,
           128932753,
           115021,
           2617820,
           3278292,
           621718,
           36910558,
           31255435,
           54409794,
           2540916,
           10834,
           29136808,
           17441139,
           6624554,
           24206636,
           206139587,
           2083380,
           5379475,
           220892331,
           4314768,
           8947027,
           7132530,
           32971846,
           109581085,
           37950802,
           10305564,
           19286123,
           144104080,
           12952209,
           198410,
           219161,
           16743930,
           6908224,
           98462,
           7976985,
           5458827,
           2100126,
           686878,
           15893219,
           59308690,
           47351567,
           21919000,
           183629,
           43849269,
           586634,
           10353442,
           8636896,
           9537642,
           59734213,
           69799978,
           1318442,
           8278737,
           105697,
           1399491,
           11818618,
           84339067,
           6031187,
           11792,
           45741000,
           44134693,
           9890400,
           67215293,
           329484123,
           3473727,
           34232050,
           307150,
           97338583,
           4803269,
           18383956,
           14862927
          ],
          "sizemode": "area",
          "sizeref": 3505280,
          "symbol": "circle"
         },
         "mode": "markers",
         "name": "",
         "orientation": "v",
         "showlegend": false,
         "type": "scatter",
         "x": [
          13295.4108845409,
          10681.6792969827,
          6198.08384070806,
          19686.523658911,
          12592.6353675009,
          48697.8370282475,
          51935.6038618156,
          13699.665590318,
          4818.09473660531,
          19148.1751007952,
          48210.0331113444,
          6119.88768686154,
          3323.14445067303,
          10909.1001689407,
          7931.75430931062,
          14339.8311811662,
          16040.0084730125,
          14063.9825053838,
          22383.8055436428,
          2160.51152951619,
          731.063229715588,
          6045.06088485291,
          3576.34949945049,
          45856.6256264804,
          928.589507504538,
          1519.91236158763,
          23324.5247506509,
          16410.7977967813,
          13441.4929522564,
          3140.69877162092,
          1072.21011269575,
          3449.1456948178,
          19679.2886412163,
          5174.10055275463,
          26465.1273096002,
          37655.1803457421,
          38319.3376633108,
          55938.2128086032,
          5481.11481697609,
          17003.0130205346,
          10329.1987527594,
          11951.4475270117,
          8056.54308612849,
          35638.4213511812,
          8392.71756391091,
          2296.82735215213,
          10997.4734903847,
          47260.800458441,
          42025.6173730617,
          14399.8688094117,
          2159.44190927585,
          14089.3023335327,
          50922.3580234484,
          5304.98352460298,
          27287.0834009302,
          8393.28464317623,
          2670.82335507161,
          1847.46582390878,
          18679.9802308198,
          2773.08136431323,
          5138.38539820015,
          31007.7684065437,
          52279.7288513646,
          6118.35733018965,
          11444.9606828103,
          12433.2969754764,
          9255.25690289807,
          89688.9569584859,
          38341.3075704083,
          38992.1483807498,
          8741.55044328036,
          41380.0935773113,
          9816.55452971638,
          25337.152399391,
          4220.44024846369,
          2291.90721878662,
          42251.4450571656,
          10776.095247312,
          4706.57023774883,
          7805.79855611968,
          29932.4939100562,
          11649.0501121276,
          2279.89587402333,
          1353.84291976355,
          36732.034744031,
          110261.157353302,
          1510.14172617809,
          1486.77824843475,
          26435.1715707484,
          13049.0466602078,
          2216.77326231685,
          39222.1433509207,
          4983.2206333331,
          19469.5245883739,
          17887.7507356971,
          3466.41329281782,
          12324.7362793838,
          11470.6738325698,
          18278.730791552,
          6916.34641150088,
          1229.08001865892,
          4544.02156851419,
          8893.81315720283,
          13527.411941066,
          3800.06570306646,
          54209.5638357302,
          5280.14058082508,
          1196.87755957473,
          4916.72138086439,
          15848.4192939955,
          63585.9035142969,
          4622.77076938075,
          25381.8484472504,
          4101.21888209216,
          12335.4723571841,
          11260.8457538125,
          7953.58164428408,
          32238.157259275,
          32181.1545372343,
          28832.6231487683,
          26456.3879381321,
          2098.7103615481,
          6295.73184093032,
          4051.60484448469,
          3300.0854932471,
          18210.0046204616,
          24361.8939424167,
          1648.05335993719,
          30330.0428870265,
          36547.7389559849,
          2482.87191978213,
          829.611428860091,
          11466.189671582,
          36215.4475907307,
          12536.9417561704,
          12270.0132882689,
          4022.86596657319,
          16130.1708064491,
          50683.3235097178,
          68393.306003945,
          3657.57350716538,
          2635.3358910827,
          17286.866606887,
          3181.13718760249,
          2107.87726149934,
          6378.1283460138,
          23728.1586459056,
          9727.50425926541,
          28384.9877846263,
          15538.4199701316,
          4411.00311573521,
          2177.59585383955,
          12377.0172931178,
          67119.153244137,
          41627.129269425,
          60235.7284916969,
          21608.4302710014,
          6994.16941167262,
          2762.791388307,
          8200.33186703573,
          5394.07168818239,
          3270.03511228554,
          2744.69075807126
         ],
         "xaxis": "x",
         "y": [
          33.2,
          27.6,
          51.3,
          42.9,
          29.9,
          34.4,
          30.8,
          26.6,
          32.4,
          25.3,
          27.2,
          53.3,
          47.8,
          37.4,
          41.6,
          33,
          53.3,
          53.4,
          41.3,
          35.3,
          38.6,
          42.4,
          46.6,
          33.3,
          56.2,
          43.3,
          44.4,
          38.5,
          51.3,
          45.3,
          42.1,
          48.9,
          48.2,
          41.5,
          29.7,
          32.7,
          25,
          28.2,
          41.6,
          41.9,
          45.7,
          31.5,
          38.8,
          30.3,
          54.6,
          35,
          36.7,
          27.3,
          32.4,
          38,
          35.9,
          35.9,
          31.9,
          43.5,
          32.9,
          48.3,
          33.7,
          50.7,
          45.1,
          41.1,
          48.2,
          29.6,
          26.1,
          35.7,
          38.2,
          42,
          29.5,
          31.4,
          39,
          35.9,
          45.5,
          32.9,
          33.7,
          27.8,
          40.8,
          37,
          31.4,
          29,
          29.7,
          38.8,
          35.1,
          31.8,
          44.9,
          35.3,
          35.7,
          35.4,
          42.6,
          44.7,
          41.1,
          31.3,
          33,
          28.7,
          32.6,
          36.8,
          45.4,
          40.1,
          25.7,
          32.7,
          38.5,
          39.5,
          54,
          30.7,
          59.1,
          34.8,
          32.8,
          28.1,
          46.2,
          34.3,
          35.1,
          33,
          27.6,
          31.6,
          49.8,
          41.9,
          45.7,
          41.5,
          42.3,
          30.2,
          33.5,
          35.8,
          37.5,
          43.7,
          38.7,
          56.3,
          40.3,
          36.2,
          32.1,
          35.7,
          25,
          24.6,
          37.1,
          36.8,
          63,
          34.7,
          39.3,
          51.2,
          34.2,
          57.9,
          30,
          33.1,
          34,
          40.5,
          34.9,
          28.7,
          43.1,
          37.6,
          40.3,
          32.8,
          41.9,
          40.8,
          39.1,
          42.8,
          26.6,
          26,
          35.1,
          41.4,
          39.7,
          35.3,
          37.6,
          35.7,
          33.7,
          57.1,
          50.3
         ],
         "yaxis": "y"
        }
       ],
       "layout": {
        "legend": {
         "itemsizing": "constant",
         "tracegroupgap": 0
        },
        "margin": {
         "t": 60
        },
        "template": {
         "data": {
          "bar": [
           {
            "error_x": {
             "color": "#2a3f5f"
            },
            "error_y": {
             "color": "#2a3f5f"
            },
            "marker": {
             "line": {
              "color": "#E5ECF6",
              "width": 0.5
             },
             "pattern": {
              "fillmode": "overlay",
              "size": 10,
              "solidity": 0.2
             }
            },
            "type": "bar"
           }
          ],
          "barpolar": [
           {
            "marker": {
             "line": {
              "color": "#E5ECF6",
              "width": 0.5
             },
             "pattern": {
              "fillmode": "overlay",
              "size": 10,
              "solidity": 0.2
             }
            },
            "type": "barpolar"
           }
          ],
          "carpet": [
           {
            "aaxis": {
             "endlinecolor": "#2a3f5f",
             "gridcolor": "white",
             "linecolor": "white",
             "minorgridcolor": "white",
             "startlinecolor": "#2a3f5f"
            },
            "baxis": {
             "endlinecolor": "#2a3f5f",
             "gridcolor": "white",
             "linecolor": "white",
             "minorgridcolor": "white",
             "startlinecolor": "#2a3f5f"
            },
            "type": "carpet"
           }
          ],
          "choropleth": [
           {
            "colorbar": {
             "outlinewidth": 0,
             "ticks": ""
            },
            "type": "choropleth"
           }
          ],
          "contour": [
           {
            "colorbar": {
             "outlinewidth": 0,
             "ticks": ""
            },
            "colorscale": [
             [
              0,
              "#0d0887"
             ],
             [
              0.1111111111111111,
              "#46039f"
             ],
             [
              0.2222222222222222,
              "#7201a8"
             ],
             [
              0.3333333333333333,
              "#9c179e"
             ],
             [
              0.4444444444444444,
              "#bd3786"
             ],
             [
              0.5555555555555556,
              "#d8576b"
             ],
             [
              0.6666666666666666,
              "#ed7953"
             ],
             [
              0.7777777777777778,
              "#fb9f3a"
             ],
             [
              0.8888888888888888,
              "#fdca26"
             ],
             [
              1,
              "#f0f921"
             ]
            ],
            "type": "contour"
           }
          ],
          "contourcarpet": [
           {
            "colorbar": {
             "outlinewidth": 0,
             "ticks": ""
            },
            "type": "contourcarpet"
           }
          ],
          "heatmap": [
           {
            "colorbar": {
             "outlinewidth": 0,
             "ticks": ""
            },
            "colorscale": [
             [
              0,
              "#0d0887"
             ],
             [
              0.1111111111111111,
              "#46039f"
             ],
             [
              0.2222222222222222,
              "#7201a8"
             ],
             [
              0.3333333333333333,
              "#9c179e"
             ],
             [
              0.4444444444444444,
              "#bd3786"
             ],
             [
              0.5555555555555556,
              "#d8576b"
             ],
             [
              0.6666666666666666,
              "#ed7953"
             ],
             [
              0.7777777777777778,
              "#fb9f3a"
             ],
             [
              0.8888888888888888,
              "#fdca26"
             ],
             [
              1,
              "#f0f921"
             ]
            ],
            "type": "heatmap"
           }
          ],
          "heatmapgl": [
           {
            "colorbar": {
             "outlinewidth": 0,
             "ticks": ""
            },
            "colorscale": [
             [
              0,
              "#0d0887"
             ],
             [
              0.1111111111111111,
              "#46039f"
             ],
             [
              0.2222222222222222,
              "#7201a8"
             ],
             [
              0.3333333333333333,
              "#9c179e"
             ],
             [
              0.4444444444444444,
              "#bd3786"
             ],
             [
              0.5555555555555556,
              "#d8576b"
             ],
             [
              0.6666666666666666,
              "#ed7953"
             ],
             [
              0.7777777777777778,
              "#fb9f3a"
             ],
             [
              0.8888888888888888,
              "#fdca26"
             ],
             [
              1,
              "#f0f921"
             ]
            ],
            "type": "heatmapgl"
           }
          ],
          "histogram": [
           {
            "marker": {
             "pattern": {
              "fillmode": "overlay",
              "size": 10,
              "solidity": 0.2
             }
            },
            "type": "histogram"
           }
          ],
          "histogram2d": [
           {
            "colorbar": {
             "outlinewidth": 0,
             "ticks": ""
            },
            "colorscale": [
             [
              0,
              "#0d0887"
             ],
             [
              0.1111111111111111,
              "#46039f"
             ],
             [
              0.2222222222222222,
              "#7201a8"
             ],
             [
              0.3333333333333333,
              "#9c179e"
             ],
             [
              0.4444444444444444,
              "#bd3786"
             ],
             [
              0.5555555555555556,
              "#d8576b"
             ],
             [
              0.6666666666666666,
              "#ed7953"
             ],
             [
              0.7777777777777778,
              "#fb9f3a"
             ],
             [
              0.8888888888888888,
              "#fdca26"
             ],
             [
              1,
              "#f0f921"
             ]
            ],
            "type": "histogram2d"
           }
          ],
          "histogram2dcontour": [
           {
            "colorbar": {
             "outlinewidth": 0,
             "ticks": ""
            },
            "colorscale": [
             [
              0,
              "#0d0887"
             ],
             [
              0.1111111111111111,
              "#46039f"
             ],
             [
              0.2222222222222222,
              "#7201a8"
             ],
             [
              0.3333333333333333,
              "#9c179e"
             ],
             [
              0.4444444444444444,
              "#bd3786"
             ],
             [
              0.5555555555555556,
              "#d8576b"
             ],
             [
              0.6666666666666666,
              "#ed7953"
             ],
             [
              0.7777777777777778,
              "#fb9f3a"
             ],
             [
              0.8888888888888888,
              "#fdca26"
             ],
             [
              1,
              "#f0f921"
             ]
            ],
            "type": "histogram2dcontour"
           }
          ],
          "mesh3d": [
           {
            "colorbar": {
             "outlinewidth": 0,
             "ticks": ""
            },
            "type": "mesh3d"
           }
          ],
          "parcoords": [
           {
            "line": {
             "colorbar": {
              "outlinewidth": 0,
              "ticks": ""
             }
            },
            "type": "parcoords"
           }
          ],
          "pie": [
           {
            "automargin": true,
            "type": "pie"
           }
          ],
          "scatter": [
           {
            "marker": {
             "colorbar": {
              "outlinewidth": 0,
              "ticks": ""
             }
            },
            "type": "scatter"
           }
          ],
          "scatter3d": [
           {
            "line": {
             "colorbar": {
              "outlinewidth": 0,
              "ticks": ""
             }
            },
            "marker": {
             "colorbar": {
              "outlinewidth": 0,
              "ticks": ""
             }
            },
            "type": "scatter3d"
           }
          ],
          "scattercarpet": [
           {
            "marker": {
             "colorbar": {
              "outlinewidth": 0,
              "ticks": ""
             }
            },
            "type": "scattercarpet"
           }
          ],
          "scattergeo": [
           {
            "marker": {
             "colorbar": {
              "outlinewidth": 0,
              "ticks": ""
             }
            },
            "type": "scattergeo"
           }
          ],
          "scattergl": [
           {
            "marker": {
             "colorbar": {
              "outlinewidth": 0,
              "ticks": ""
             }
            },
            "type": "scattergl"
           }
          ],
          "scattermapbox": [
           {
            "marker": {
             "colorbar": {
              "outlinewidth": 0,
              "ticks": ""
             }
            },
            "type": "scattermapbox"
           }
          ],
          "scatterpolar": [
           {
            "marker": {
             "colorbar": {
              "outlinewidth": 0,
              "ticks": ""
             }
            },
            "type": "scatterpolar"
           }
          ],
          "scatterpolargl": [
           {
            "marker": {
             "colorbar": {
              "outlinewidth": 0,
              "ticks": ""
             }
            },
            "type": "scatterpolargl"
           }
          ],
          "scatterternary": [
           {
            "marker": {
             "colorbar": {
              "outlinewidth": 0,
              "ticks": ""
             }
            },
            "type": "scatterternary"
           }
          ],
          "surface": [
           {
            "colorbar": {
             "outlinewidth": 0,
             "ticks": ""
            },
            "colorscale": [
             [
              0,
              "#0d0887"
             ],
             [
              0.1111111111111111,
              "#46039f"
             ],
             [
              0.2222222222222222,
              "#7201a8"
             ],
             [
              0.3333333333333333,
              "#9c179e"
             ],
             [
              0.4444444444444444,
              "#bd3786"
             ],
             [
              0.5555555555555556,
              "#d8576b"
             ],
             [
              0.6666666666666666,
              "#ed7953"
             ],
             [
              0.7777777777777778,
              "#fb9f3a"
             ],
             [
              0.8888888888888888,
              "#fdca26"
             ],
             [
              1,
              "#f0f921"
             ]
            ],
            "type": "surface"
           }
          ],
          "table": [
           {
            "cells": {
             "fill": {
              "color": "#EBF0F8"
             },
             "line": {
              "color": "white"
             }
            },
            "header": {
             "fill": {
              "color": "#C8D4E3"
             },
             "line": {
              "color": "white"
             }
            },
            "type": "table"
           }
          ]
         },
         "layout": {
          "annotationdefaults": {
           "arrowcolor": "#2a3f5f",
           "arrowhead": 0,
           "arrowwidth": 1
          },
          "autotypenumbers": "strict",
          "coloraxis": {
           "colorbar": {
            "outlinewidth": 0,
            "ticks": ""
           }
          },
          "colorscale": {
           "diverging": [
            [
             0,
             "#8e0152"
            ],
            [
             0.1,
             "#c51b7d"
            ],
            [
             0.2,
             "#de77ae"
            ],
            [
             0.3,
             "#f1b6da"
            ],
            [
             0.4,
             "#fde0ef"
            ],
            [
             0.5,
             "#f7f7f7"
            ],
            [
             0.6,
             "#e6f5d0"
            ],
            [
             0.7,
             "#b8e186"
            ],
            [
             0.8,
             "#7fbc41"
            ],
            [
             0.9,
             "#4d9221"
            ],
            [
             1,
             "#276419"
            ]
           ],
           "sequential": [
            [
             0,
             "#0d0887"
            ],
            [
             0.1111111111111111,
             "#46039f"
            ],
            [
             0.2222222222222222,
             "#7201a8"
            ],
            [
             0.3333333333333333,
             "#9c179e"
            ],
            [
             0.4444444444444444,
             "#bd3786"
            ],
            [
             0.5555555555555556,
             "#d8576b"
            ],
            [
             0.6666666666666666,
             "#ed7953"
            ],
            [
             0.7777777777777778,
             "#fb9f3a"
            ],
            [
             0.8888888888888888,
             "#fdca26"
            ],
            [
             1,
             "#f0f921"
            ]
           ],
           "sequentialminus": [
            [
             0,
             "#0d0887"
            ],
            [
             0.1111111111111111,
             "#46039f"
            ],
            [
             0.2222222222222222,
             "#7201a8"
            ],
            [
             0.3333333333333333,
             "#9c179e"
            ],
            [
             0.4444444444444444,
             "#bd3786"
            ],
            [
             0.5555555555555556,
             "#d8576b"
            ],
            [
             0.6666666666666666,
             "#ed7953"
            ],
            [
             0.7777777777777778,
             "#fb9f3a"
            ],
            [
             0.8888888888888888,
             "#fdca26"
            ],
            [
             1,
             "#f0f921"
            ]
           ]
          },
          "colorway": [
           "#636efa",
           "#EF553B",
           "#00cc96",
           "#ab63fa",
           "#FFA15A",
           "#19d3f3",
           "#FF6692",
           "#B6E880",
           "#FF97FF",
           "#FECB52"
          ],
          "font": {
           "color": "#2a3f5f"
          },
          "geo": {
           "bgcolor": "white",
           "lakecolor": "white",
           "landcolor": "#E5ECF6",
           "showlakes": true,
           "showland": true,
           "subunitcolor": "white"
          },
          "hoverlabel": {
           "align": "left"
          },
          "hovermode": "closest",
          "mapbox": {
           "style": "light"
          },
          "paper_bgcolor": "white",
          "plot_bgcolor": "#E5ECF6",
          "polar": {
           "angularaxis": {
            "gridcolor": "white",
            "linecolor": "white",
            "ticks": ""
           },
           "bgcolor": "#E5ECF6",
           "radialaxis": {
            "gridcolor": "white",
            "linecolor": "white",
            "ticks": ""
           }
          },
          "scene": {
           "xaxis": {
            "backgroundcolor": "#E5ECF6",
            "gridcolor": "white",
            "gridwidth": 2,
            "linecolor": "white",
            "showbackground": true,
            "ticks": "",
            "zerolinecolor": "white"
           },
           "yaxis": {
            "backgroundcolor": "#E5ECF6",
            "gridcolor": "white",
            "gridwidth": 2,
            "linecolor": "white",
            "showbackground": true,
            "ticks": "",
            "zerolinecolor": "white"
           },
           "zaxis": {
            "backgroundcolor": "#E5ECF6",
            "gridcolor": "white",
            "gridwidth": 2,
            "linecolor": "white",
            "showbackground": true,
            "ticks": "",
            "zerolinecolor": "white"
           }
          },
          "shapedefaults": {
           "line": {
            "color": "#2a3f5f"
           }
          },
          "ternary": {
           "aaxis": {
            "gridcolor": "white",
            "linecolor": "white",
            "ticks": ""
           },
           "baxis": {
            "gridcolor": "white",
            "linecolor": "white",
            "ticks": ""
           },
           "bgcolor": "#E5ECF6",
           "caxis": {
            "gridcolor": "white",
            "linecolor": "white",
            "ticks": ""
           }
          },
          "title": {
           "x": 0.05
          },
          "xaxis": {
           "automargin": true,
           "gridcolor": "white",
           "linecolor": "white",
           "ticks": "",
           "title": {
            "standoff": 15
           },
           "zerolinecolor": "white",
           "zerolinewidth": 2
          },
          "yaxis": {
           "automargin": true,
           "gridcolor": "white",
           "linecolor": "white",
           "ticks": "",
           "title": {
            "standoff": 15
           },
           "zerolinecolor": "white",
           "zerolinewidth": 2
          }
         }
        },
        "xaxis": {
         "anchor": "y",
         "domain": [
          0,
          1
         ],
         "title": {
          "text": "GDP"
         },
         "type": "log"
        },
        "yaxis": {
         "anchor": "x",
         "domain": [
          0,
          1
         ],
         "title": {
          "text": "Gini"
         }
        }
       }
      },
      "text/html": [
       "<div>                            <div id=\"1974fe51-d2b5-4bda-980d-cb36680751c8\" class=\"plotly-graph-div\" style=\"height:525px; width:100%;\"></div>            <script type=\"text/javascript\">                require([\"plotly\"], function(Plotly) {                    window.PLOTLYENV=window.PLOTLYENV || {};                                    if (document.getElementById(\"1974fe51-d2b5-4bda-980d-cb36680751c8\")) {                    Plotly.newPlot(                        \"1974fe51-d2b5-4bda-980d-cb36680751c8\",                        [{\"customdata\":[[\"Albania\"],[\"Algeria\"],[\"Angola\"],[\"Argentina\"],[\"Armenia\"],[\"Australia\"],[\"Austria\"],[\"Azerbaijan\"],[\"Bangladesh\"],[\"Belarus\"],[\"Belgium\"],[\"Belize\"],[\"Benin\"],[\"Bhutan\"],[\"Bolivia\"],[\"Bosnia and Herzegovina\"],[\"Botswana\"],[\"Brazil\"],[\"Bulgaria\"],[\"Burkina Faso\"],[\"Burundi\"],[\"Cabo Verde\"],[\"Cameroon\"],[\"Canada\"],[\"Central African Republic\"],[\"Chad\"],[\"Chile\"],[\"China\"],[\"Colombia\"],[\"Comoros\"],[\"Congo, Dem. Rep.\"],[\"Congo, Rep.\"],[\"Costa Rica\"],[\"Cote d'Ivoire\"],[\"Croatia\"],[\"Cyprus\"],[\"Czech Republic\"],[\"Denmark\"],[\"Djibouti\"],[\"Dominican Republic\"],[\"Ecuador\"],[\"Egypt, Arab Rep.\"],[\"El Salvador\"],[\"Estonia\"],[\"Eswatini\"],[\"Ethiopia\"],[\"Fiji\"],[\"Finland\"],[\"France\"],[\"Gabon\"],[\"Gambia, The\"],[\"Georgia\"],[\"Germany\"],[\"Ghana\"],[\"Greece\"],[\"Guatemala\"],[\"Guinea\"],[\"Guinea-Bissau\"],[\"Guyana\"],[\"Haiti\"],[\"Honduras\"],[\"Hungary\"],[\"Iceland\"],[\"India\"],[\"Indonesia\"],[\"Iran, Islamic Rep.\"],[\"Iraq\"],[\"Ireland\"],[\"Israel\"],[\"Italy\"],[\"Jamaica\"],[\"Japan\"],[\"Jordan\"],[\"Kazakhstan\"],[\"Kenya\"],[\"Kiribati\"],[\"Korea, Rep.\"],[\"Kosovo\"],[\"Kyrgyz Republic\"],[\"Lao PDR\"],[\"Latvia\"],[\"Lebanon\"],[\"Lesotho\"],[\"Liberia\"],[\"Lithuania\"],[\"Luxembourg\"],[\"Madagascar\"],[\"Malawi\"],[\"Malaysia\"],[\"Maldives\"],[\"Mali\"],[\"Malta\"],[\"Mauritania\"],[\"Mauritius\"],[\"Mexico\"],[\"Micronesia, Fed. Sts.\"],[\"Moldova\"],[\"Mongolia\"],[\"Montenegro\"],[\"Morocco\"],[\"Mozambique\"],[\"Myanmar\"],[\"Namibia\"],[\"Nauru\"],[\"Nepal\"],[\"Netherlands\"],[\"Nicaragua\"],[\"Niger\"],[\"Nigeria\"],[\"North Macedonia\"],[\"Norway\"],[\"Pakistan\"],[\"Panama\"],[\"Papua New Guinea\"],[\"Paraguay\"],[\"Peru\"],[\"Philippines\"],[\"Poland\"],[\"Portugal\"],[\"Romania\"],[\"Russian Federation\"],[\"Rwanda\"],[\"Samoa\"],[\"Sao Tome and Principe\"],[\"Senegal\"],[\"Serbia\"],[\"Seychelles\"],[\"Sierra Leone\"],[\"Slovak Republic\"],[\"Slovenia\"],[\"Solomon Islands\"],[\"Somalia\"],[\"South Africa\"],[\"Spain\"],[\"Sri Lanka\"],[\"St. Lucia\"],[\"Sudan\"],[\"Suriname\"],[\"Sweden\"],[\"Switzerland\"],[\"Tajikistan\"],[\"Tanzania\"],[\"Thailand\"],[\"Timor-Leste\"],[\"Togo\"],[\"Tonga\"],[\"Trinidad and Tobago\"],[\"Tunisia\"],[\"Turkey\"],[\"Turkmenistan\"],[\"Tuvalu\"],[\"Uganda\"],[\"Ukraine\"],[\"United Arab Emirates\"],[\"United Kingdom\"],[\"United States\"],[\"Uruguay\"],[\"Uzbekistan\"],[\"Vanuatu\"],[\"Vietnam\"],[\"West Bank and Gaza\"],[\"Zambia\"],[\"Zimbabwe\"]],\"hovertemplate\":\"GDP=%{x}<br>Gini=%{y}<br>Population=%{marker.size}<br>Country=%{customdata[0]}<extra></extra>\",\"legendgroup\":\"\",\"marker\":{\"color\":\"#636efa\",\"size\":[2837743.0,43851043.0,32866268.0,45376763.0,2963234.0,25687041.0,8917205.0,10110116.0,164689383.0,9398861.0,11555997.0,397621.0,12123198.0,771612.0,11673029.0,3280815.0,2351625.0,212559409.0,6927288.0,20903278.0,11890781.0,555988.0,26545864.0,38005238.0,4829764.0,16425859.0,19116209.0,1402112000.0,50882884.0,869595.0,89561404.0,5518092.0,5094114.0,26378275.0,4047200.0,1207361.0,10698896.0,5831404.0,988002.0,10847904.0,17643060.0,102334403.0,6486201.0,1331057.0,1160164.0,114963583.0,896444.0,5530719.0,67391582.0,2225728.0,2416664.0,3714000.0,83240525.0,31072945.0,10715549.0,16858333.0,13132792.0,1967998.0,786559.0,11402533.0,9904608.0,9749763.0,366425.0,1380004385.0,273523621.0,83992953.0,40222503.0,4994724.0,9216900.0,59554023.0,2961161.0,125836021.0,10203140.0,18754440.0,53771300.0,119446.0,51780579.0,1775378.0,6591600.0,7275556.0,1901548.0,6825442.0,2142252.0,5057677.0,2794700.0,632275.0,27691019.0,19129955.0,32365998.0,540542.0,20250834.0,525285.0,4649660.0,1265740.0,128932753.0,115021.0,2617820.0,3278292.0,621718.0,36910558.0,31255435.0,54409794.0,2540916.0,10834.0,29136808.0,17441139.0,6624554.0,24206636.0,206139587.0,2083380.0,5379475.0,220892331.0,4314768.0,8947027.0,7132530.0,32971846.0,109581085.0,37950802.0,10305564.0,19286123.0,144104080.0,12952209.0,198410.0,219161.0,16743930.0,6908224.0,98462.0,7976985.0,5458827.0,2100126.0,686878.0,15893219.0,59308690.0,47351567.0,21919000.0,183629.0,43849269.0,586634.0,10353442.0,8636896.0,9537642.0,59734213.0,69799978.0,1318442.0,8278737.0,105697.0,1399491.0,11818618.0,84339067.0,6031187.0,11792.0,45741000.0,44134693.0,9890400.0,67215293.0,329484123.0,3473727.0,34232050.0,307150.0,97338583.0,4803269.0,18383956.0,14862927.0],\"sizemode\":\"area\",\"sizeref\":3505280.0,\"symbol\":\"circle\"},\"mode\":\"markers\",\"name\":\"\",\"orientation\":\"v\",\"showlegend\":false,\"type\":\"scatter\",\"x\":[13295.4108845409,10681.6792969827,6198.08384070806,19686.523658911,12592.6353675009,48697.8370282475,51935.6038618156,13699.665590318,4818.09473660531,19148.1751007952,48210.0331113444,6119.88768686154,3323.14445067303,10909.1001689407,7931.75430931062,14339.8311811662,16040.0084730125,14063.9825053838,22383.8055436428,2160.51152951619,731.063229715588,6045.06088485291,3576.34949945049,45856.6256264804,928.589507504538,1519.91236158763,23324.5247506509,16410.7977967813,13441.4929522564,3140.69877162092,1072.21011269575,3449.1456948178,19679.2886412163,5174.10055275463,26465.1273096002,37655.1803457421,38319.3376633108,55938.2128086032,5481.11481697609,17003.0130205346,10329.1987527594,11951.4475270117,8056.54308612849,35638.4213511812,8392.71756391091,2296.82735215213,10997.4734903847,47260.800458441,42025.6173730617,14399.8688094117,2159.44190927585,14089.3023335327,50922.3580234484,5304.98352460298,27287.0834009302,8393.28464317623,2670.82335507161,1847.46582390878,18679.9802308198,2773.08136431323,5138.38539820015,31007.7684065437,52279.7288513646,6118.35733018965,11444.9606828103,12433.2969754764,9255.25690289807,89688.9569584859,38341.3075704083,38992.1483807498,8741.55044328036,41380.0935773113,9816.55452971638,25337.152399391,4220.44024846369,2291.90721878662,42251.4450571656,10776.095247312,4706.57023774883,7805.79855611968,29932.4939100562,11649.0501121276,2279.89587402333,1353.84291976355,36732.034744031,110261.157353302,1510.14172617809,1486.77824843475,26435.1715707484,13049.0466602078,2216.77326231685,39222.1433509207,4983.2206333331,19469.5245883739,17887.7507356971,3466.41329281782,12324.7362793838,11470.6738325698,18278.730791552,6916.34641150088,1229.08001865892,4544.02156851419,8893.81315720283,13527.411941066,3800.06570306646,54209.5638357302,5280.14058082508,1196.87755957473,4916.72138086439,15848.4192939955,63585.9035142969,4622.77076938075,25381.8484472504,4101.21888209216,12335.4723571841,11260.8457538125,7953.58164428408,32238.157259275,32181.1545372343,28832.6231487683,26456.3879381321,2098.7103615481,6295.73184093032,4051.60484448469,3300.0854932471,18210.0046204616,24361.8939424167,1648.05335993719,30330.0428870265,36547.7389559849,2482.87191978213,829.611428860091,11466.189671582,36215.4475907307,12536.9417561704,12270.0132882689,4022.86596657319,16130.1708064491,50683.3235097178,68393.306003945,3657.57350716538,2635.3358910827,17286.866606887,3181.13718760249,2107.87726149934,6378.1283460138,23728.1586459056,9727.50425926541,28384.9877846263,15538.4199701316,4411.00311573521,2177.59585383955,12377.0172931178,67119.153244137,41627.129269425,60235.7284916969,21608.4302710014,6994.16941167262,2762.791388307,8200.33186703573,5394.07168818239,3270.03511228554,2744.69075807126],\"xaxis\":\"x\",\"y\":[33.2,27.6,51.3,42.9,29.9,34.4,30.8,26.6,32.4,25.3,27.2,53.3,47.8,37.4,41.6,33.0,53.3,53.4,41.3,35.3,38.6,42.4,46.6,33.3,56.2,43.3,44.4,38.5,51.3,45.3,42.1,48.9,48.2,41.5,29.7,32.7,25.0,28.2,41.6,41.9,45.7,31.5,38.8,30.3,54.6,35.0,36.7,27.3,32.4,38.0,35.9,35.9,31.9,43.5,32.9,48.3,33.7,50.7,45.1,41.1,48.2,29.6,26.1,35.7,38.2,42.0,29.5,31.4,39.0,35.9,45.5,32.9,33.7,27.8,40.8,37.0,31.4,29.0,29.7,38.8,35.1,31.8,44.9,35.3,35.7,35.4,42.6,44.7,41.1,31.3,33.0,28.7,32.6,36.8,45.4,40.1,25.7,32.7,38.5,39.5,54.0,30.7,59.1,34.8,32.8,28.1,46.2,34.3,35.1,33.0,27.6,31.6,49.8,41.9,45.7,41.5,42.3,30.2,33.5,35.8,37.5,43.7,38.7,56.3,40.3,36.2,32.1,35.7,25.0,24.6,37.1,36.8,63.0,34.7,39.3,51.2,34.2,57.9,30.0,33.1,34.0,40.5,34.9,28.7,43.1,37.6,40.3,32.8,41.9,40.8,39.1,42.8,26.6,26.0,35.1,41.4,39.7,35.3,37.6,35.7,33.7,57.1,50.3],\"yaxis\":\"y\"}],                        {\"legend\":{\"itemsizing\":\"constant\",\"tracegroupgap\":0},\"margin\":{\"t\":60},\"template\":{\"data\":{\"bar\":[{\"error_x\":{\"color\":\"#2a3f5f\"},\"error_y\":{\"color\":\"#2a3f5f\"},\"marker\":{\"line\":{\"color\":\"#E5ECF6\",\"width\":0.5},\"pattern\":{\"fillmode\":\"overlay\",\"size\":10,\"solidity\":0.2}},\"type\":\"bar\"}],\"barpolar\":[{\"marker\":{\"line\":{\"color\":\"#E5ECF6\",\"width\":0.5},\"pattern\":{\"fillmode\":\"overlay\",\"size\":10,\"solidity\":0.2}},\"type\":\"barpolar\"}],\"carpet\":[{\"aaxis\":{\"endlinecolor\":\"#2a3f5f\",\"gridcolor\":\"white\",\"linecolor\":\"white\",\"minorgridcolor\":\"white\",\"startlinecolor\":\"#2a3f5f\"},\"baxis\":{\"endlinecolor\":\"#2a3f5f\",\"gridcolor\":\"white\",\"linecolor\":\"white\",\"minorgridcolor\":\"white\",\"startlinecolor\":\"#2a3f5f\"},\"type\":\"carpet\"}],\"choropleth\":[{\"colorbar\":{\"outlinewidth\":0,\"ticks\":\"\"},\"type\":\"choropleth\"}],\"contour\":[{\"colorbar\":{\"outlinewidth\":0,\"ticks\":\"\"},\"colorscale\":[[0.0,\"#0d0887\"],[0.1111111111111111,\"#46039f\"],[0.2222222222222222,\"#7201a8\"],[0.3333333333333333,\"#9c179e\"],[0.4444444444444444,\"#bd3786\"],[0.5555555555555556,\"#d8576b\"],[0.6666666666666666,\"#ed7953\"],[0.7777777777777778,\"#fb9f3a\"],[0.8888888888888888,\"#fdca26\"],[1.0,\"#f0f921\"]],\"type\":\"contour\"}],\"contourcarpet\":[{\"colorbar\":{\"outlinewidth\":0,\"ticks\":\"\"},\"type\":\"contourcarpet\"}],\"heatmap\":[{\"colorbar\":{\"outlinewidth\":0,\"ticks\":\"\"},\"colorscale\":[[0.0,\"#0d0887\"],[0.1111111111111111,\"#46039f\"],[0.2222222222222222,\"#7201a8\"],[0.3333333333333333,\"#9c179e\"],[0.4444444444444444,\"#bd3786\"],[0.5555555555555556,\"#d8576b\"],[0.6666666666666666,\"#ed7953\"],[0.7777777777777778,\"#fb9f3a\"],[0.8888888888888888,\"#fdca26\"],[1.0,\"#f0f921\"]],\"type\":\"heatmap\"}],\"heatmapgl\":[{\"colorbar\":{\"outlinewidth\":0,\"ticks\":\"\"},\"colorscale\":[[0.0,\"#0d0887\"],[0.1111111111111111,\"#46039f\"],[0.2222222222222222,\"#7201a8\"],[0.3333333333333333,\"#9c179e\"],[0.4444444444444444,\"#bd3786\"],[0.5555555555555556,\"#d8576b\"],[0.6666666666666666,\"#ed7953\"],[0.7777777777777778,\"#fb9f3a\"],[0.8888888888888888,\"#fdca26\"],[1.0,\"#f0f921\"]],\"type\":\"heatmapgl\"}],\"histogram\":[{\"marker\":{\"pattern\":{\"fillmode\":\"overlay\",\"size\":10,\"solidity\":0.2}},\"type\":\"histogram\"}],\"histogram2d\":[{\"colorbar\":{\"outlinewidth\":0,\"ticks\":\"\"},\"colorscale\":[[0.0,\"#0d0887\"],[0.1111111111111111,\"#46039f\"],[0.2222222222222222,\"#7201a8\"],[0.3333333333333333,\"#9c179e\"],[0.4444444444444444,\"#bd3786\"],[0.5555555555555556,\"#d8576b\"],[0.6666666666666666,\"#ed7953\"],[0.7777777777777778,\"#fb9f3a\"],[0.8888888888888888,\"#fdca26\"],[1.0,\"#f0f921\"]],\"type\":\"histogram2d\"}],\"histogram2dcontour\":[{\"colorbar\":{\"outlinewidth\":0,\"ticks\":\"\"},\"colorscale\":[[0.0,\"#0d0887\"],[0.1111111111111111,\"#46039f\"],[0.2222222222222222,\"#7201a8\"],[0.3333333333333333,\"#9c179e\"],[0.4444444444444444,\"#bd3786\"],[0.5555555555555556,\"#d8576b\"],[0.6666666666666666,\"#ed7953\"],[0.7777777777777778,\"#fb9f3a\"],[0.8888888888888888,\"#fdca26\"],[1.0,\"#f0f921\"]],\"type\":\"histogram2dcontour\"}],\"mesh3d\":[{\"colorbar\":{\"outlinewidth\":0,\"ticks\":\"\"},\"type\":\"mesh3d\"}],\"parcoords\":[{\"line\":{\"colorbar\":{\"outlinewidth\":0,\"ticks\":\"\"}},\"type\":\"parcoords\"}],\"pie\":[{\"automargin\":true,\"type\":\"pie\"}],\"scatter\":[{\"marker\":{\"colorbar\":{\"outlinewidth\":0,\"ticks\":\"\"}},\"type\":\"scatter\"}],\"scatter3d\":[{\"line\":{\"colorbar\":{\"outlinewidth\":0,\"ticks\":\"\"}},\"marker\":{\"colorbar\":{\"outlinewidth\":0,\"ticks\":\"\"}},\"type\":\"scatter3d\"}],\"scattercarpet\":[{\"marker\":{\"colorbar\":{\"outlinewidth\":0,\"ticks\":\"\"}},\"type\":\"scattercarpet\"}],\"scattergeo\":[{\"marker\":{\"colorbar\":{\"outlinewidth\":0,\"ticks\":\"\"}},\"type\":\"scattergeo\"}],\"scattergl\":[{\"marker\":{\"colorbar\":{\"outlinewidth\":0,\"ticks\":\"\"}},\"type\":\"scattergl\"}],\"scattermapbox\":[{\"marker\":{\"colorbar\":{\"outlinewidth\":0,\"ticks\":\"\"}},\"type\":\"scattermapbox\"}],\"scatterpolar\":[{\"marker\":{\"colorbar\":{\"outlinewidth\":0,\"ticks\":\"\"}},\"type\":\"scatterpolar\"}],\"scatterpolargl\":[{\"marker\":{\"colorbar\":{\"outlinewidth\":0,\"ticks\":\"\"}},\"type\":\"scatterpolargl\"}],\"scatterternary\":[{\"marker\":{\"colorbar\":{\"outlinewidth\":0,\"ticks\":\"\"}},\"type\":\"scatterternary\"}],\"surface\":[{\"colorbar\":{\"outlinewidth\":0,\"ticks\":\"\"},\"colorscale\":[[0.0,\"#0d0887\"],[0.1111111111111111,\"#46039f\"],[0.2222222222222222,\"#7201a8\"],[0.3333333333333333,\"#9c179e\"],[0.4444444444444444,\"#bd3786\"],[0.5555555555555556,\"#d8576b\"],[0.6666666666666666,\"#ed7953\"],[0.7777777777777778,\"#fb9f3a\"],[0.8888888888888888,\"#fdca26\"],[1.0,\"#f0f921\"]],\"type\":\"surface\"}],\"table\":[{\"cells\":{\"fill\":{\"color\":\"#EBF0F8\"},\"line\":{\"color\":\"white\"}},\"header\":{\"fill\":{\"color\":\"#C8D4E3\"},\"line\":{\"color\":\"white\"}},\"type\":\"table\"}]},\"layout\":{\"annotationdefaults\":{\"arrowcolor\":\"#2a3f5f\",\"arrowhead\":0,\"arrowwidth\":1},\"autotypenumbers\":\"strict\",\"coloraxis\":{\"colorbar\":{\"outlinewidth\":0,\"ticks\":\"\"}},\"colorscale\":{\"diverging\":[[0,\"#8e0152\"],[0.1,\"#c51b7d\"],[0.2,\"#de77ae\"],[0.3,\"#f1b6da\"],[0.4,\"#fde0ef\"],[0.5,\"#f7f7f7\"],[0.6,\"#e6f5d0\"],[0.7,\"#b8e186\"],[0.8,\"#7fbc41\"],[0.9,\"#4d9221\"],[1,\"#276419\"]],\"sequential\":[[0.0,\"#0d0887\"],[0.1111111111111111,\"#46039f\"],[0.2222222222222222,\"#7201a8\"],[0.3333333333333333,\"#9c179e\"],[0.4444444444444444,\"#bd3786\"],[0.5555555555555556,\"#d8576b\"],[0.6666666666666666,\"#ed7953\"],[0.7777777777777778,\"#fb9f3a\"],[0.8888888888888888,\"#fdca26\"],[1.0,\"#f0f921\"]],\"sequentialminus\":[[0.0,\"#0d0887\"],[0.1111111111111111,\"#46039f\"],[0.2222222222222222,\"#7201a8\"],[0.3333333333333333,\"#9c179e\"],[0.4444444444444444,\"#bd3786\"],[0.5555555555555556,\"#d8576b\"],[0.6666666666666666,\"#ed7953\"],[0.7777777777777778,\"#fb9f3a\"],[0.8888888888888888,\"#fdca26\"],[1.0,\"#f0f921\"]]},\"colorway\":[\"#636efa\",\"#EF553B\",\"#00cc96\",\"#ab63fa\",\"#FFA15A\",\"#19d3f3\",\"#FF6692\",\"#B6E880\",\"#FF97FF\",\"#FECB52\"],\"font\":{\"color\":\"#2a3f5f\"},\"geo\":{\"bgcolor\":\"white\",\"lakecolor\":\"white\",\"landcolor\":\"#E5ECF6\",\"showlakes\":true,\"showland\":true,\"subunitcolor\":\"white\"},\"hoverlabel\":{\"align\":\"left\"},\"hovermode\":\"closest\",\"mapbox\":{\"style\":\"light\"},\"paper_bgcolor\":\"white\",\"plot_bgcolor\":\"#E5ECF6\",\"polar\":{\"angularaxis\":{\"gridcolor\":\"white\",\"linecolor\":\"white\",\"ticks\":\"\"},\"bgcolor\":\"#E5ECF6\",\"radialaxis\":{\"gridcolor\":\"white\",\"linecolor\":\"white\",\"ticks\":\"\"}},\"scene\":{\"xaxis\":{\"backgroundcolor\":\"#E5ECF6\",\"gridcolor\":\"white\",\"gridwidth\":2,\"linecolor\":\"white\",\"showbackground\":true,\"ticks\":\"\",\"zerolinecolor\":\"white\"},\"yaxis\":{\"backgroundcolor\":\"#E5ECF6\",\"gridcolor\":\"white\",\"gridwidth\":2,\"linecolor\":\"white\",\"showbackground\":true,\"ticks\":\"\",\"zerolinecolor\":\"white\"},\"zaxis\":{\"backgroundcolor\":\"#E5ECF6\",\"gridcolor\":\"white\",\"gridwidth\":2,\"linecolor\":\"white\",\"showbackground\":true,\"ticks\":\"\",\"zerolinecolor\":\"white\"}},\"shapedefaults\":{\"line\":{\"color\":\"#2a3f5f\"}},\"ternary\":{\"aaxis\":{\"gridcolor\":\"white\",\"linecolor\":\"white\",\"ticks\":\"\"},\"baxis\":{\"gridcolor\":\"white\",\"linecolor\":\"white\",\"ticks\":\"\"},\"bgcolor\":\"#E5ECF6\",\"caxis\":{\"gridcolor\":\"white\",\"linecolor\":\"white\",\"ticks\":\"\"}},\"title\":{\"x\":0.05},\"xaxis\":{\"automargin\":true,\"gridcolor\":\"white\",\"linecolor\":\"white\",\"ticks\":\"\",\"title\":{\"standoff\":15},\"zerolinecolor\":\"white\",\"zerolinewidth\":2},\"yaxis\":{\"automargin\":true,\"gridcolor\":\"white\",\"linecolor\":\"white\",\"ticks\":\"\",\"title\":{\"standoff\":15},\"zerolinecolor\":\"white\",\"zerolinewidth\":2}}},\"xaxis\":{\"anchor\":\"y\",\"domain\":[0.0,1.0],\"title\":{\"text\":\"GDP\"},\"type\":\"log\"},\"yaxis\":{\"anchor\":\"x\",\"domain\":[0.0,1.0],\"title\":{\"text\":\"Gini\"}}},                        {\"responsive\": true}                    ).then(function(){\n",
       "                            \n",
       "var gd = document.getElementById('1974fe51-d2b5-4bda-980d-cb36680751c8');\n",
       "var x = new MutationObserver(function (mutations, observer) {{\n",
       "        var display = window.getComputedStyle(gd).display;\n",
       "        if (!display || display === 'none') {{\n",
       "            console.log([gd, 'removed!']);\n",
       "            Plotly.purge(gd);\n",
       "            observer.disconnect();\n",
       "        }}\n",
       "}});\n",
       "\n",
       "// Listen for the removal of the full notebook cells\n",
       "var notebookContainer = gd.closest('#notebook-container');\n",
       "if (notebookContainer) {{\n",
       "    x.observe(notebookContainer, {childList: true});\n",
       "}}\n",
       "\n",
       "// Listen for the clearing of the current output cell\n",
       "var outputEl = gd.closest('.output');\n",
       "if (outputEl) {{\n",
       "    x.observe(outputEl, {childList: true});\n",
       "}}\n",
       "\n",
       "                        })                };                });            </script>        </div>"
      ]
     },
     "metadata": {},
     "output_type": "display_data"
    }
   ],
   "source": [
    "#collapse-hide\n",
    "import plotly.express as px\n",
    "fig = px.scatter(df, x=\"GDP\", y=\"Gini\", size=\"Population\", hover_data=['Country'], log_x=True)\n",
    "fig.show()"
   ]
  },
  {
   "cell_type": "code",
   "execution_count": null,
   "metadata": {},
   "outputs": [],
   "source": []
  }
 ],
 "metadata": {
  "kernelspec": {
   "display_name": "Python 3",
   "language": "python",
   "name": "python3"
  },
  "language_info": {
   "codemirror_mode": {
    "name": "ipython",
    "version": 3
   },
   "file_extension": ".py",
   "mimetype": "text/x-python",
   "name": "python",
   "nbconvert_exporter": "python",
   "pygments_lexer": "ipython3",
   "version": "3.8.5"
  }
 },
 "nbformat": 4,
 "nbformat_minor": 4
}
