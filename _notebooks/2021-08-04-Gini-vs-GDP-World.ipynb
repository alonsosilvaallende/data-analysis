{
 "cells": [
  {
   "cell_type": "markdown",
   "metadata": {},
   "source": [
    "# Gini vs GDP per cápita\n",
    "> Gini vs GDP per cápita.\n",
    "\n",
    "- toc: true \n",
    "- badges: true\n",
    "- comments: true\n",
    "- categories: [jupyter]\n",
    "- image: images/chart-preview.png"
   ]
  },
  {
   "cell_type": "code",
   "execution_count": 1,
   "metadata": {
    "ExecuteTime": {
     "end_time": "2021-08-04T17:46:16.642490Z",
     "start_time": "2021-08-04T17:46:14.110711Z"
    }
   },
   "outputs": [],
   "source": [
    "import numpy as np\n",
    "import pandas as pd\n",
    "import matplotlib.pyplot as plt\n",
    "plt.rcParams.update({'xtick.labelsize' : 14,\n",
    "                     'ytick.labelsize' : 14})"
   ]
  },
  {
   "cell_type": "code",
   "execution_count": 2,
   "metadata": {
    "ExecuteTime": {
     "end_time": "2021-08-04T17:46:25.927706Z",
     "start_time": "2021-08-04T17:46:24.754432Z"
    }
   },
   "outputs": [],
   "source": [
    "import wbdata\n",
    "import seaborn as sns\n",
    "from scipy import stats\n",
    "from adjustText import adjust_text"
   ]
  },
  {
   "cell_type": "code",
   "execution_count": 21,
   "metadata": {
    "ExecuteTime": {
     "end_time": "2021-08-04T17:59:41.525439Z",
     "start_time": "2021-08-04T17:59:41.521179Z"
    }
   },
   "outputs": [],
   "source": [
    "indicators = {'SI.POV.GINI':'Gini Index', \n",
    "              'NY.GDP.PCAP.PP.KD':'GDP per capita (constant 2010 US$)',\n",
    "              'SP.POP.TOTL':'Population'}"
   ]
  },
  {
   "cell_type": "code",
   "execution_count": 50,
   "metadata": {
    "ExecuteTime": {
     "end_time": "2021-08-04T18:27:17.255234Z",
     "start_time": "2021-08-04T18:27:17.233863Z"
    }
   },
   "outputs": [],
   "source": [
    "indicators = {'C0.02':'Country ISO3'}"
   ]
  },
  {
   "cell_type": "code",
   "execution_count": 57,
   "metadata": {
    "ExecuteTime": {
     "end_time": "2021-08-04T18:34:16.439567Z",
     "start_time": "2021-08-04T18:34:16.414272Z"
    }
   },
   "outputs": [],
   "source": [
    "df1 = wbdata.get_dataframe(indicators=indicators)"
   ]
  },
  {
   "cell_type": "code",
   "execution_count": 58,
   "metadata": {
    "ExecuteTime": {
     "end_time": "2021-08-04T18:34:22.672484Z",
     "start_time": "2021-08-04T18:34:22.650443Z"
    }
   },
   "outputs": [
    {
     "data": {
      "text/html": [
       "<div>\n",
       "<style scoped>\n",
       "    .dataframe tbody tr th:only-of-type {\n",
       "        vertical-align: middle;\n",
       "    }\n",
       "\n",
       "    .dataframe tbody tr th {\n",
       "        vertical-align: top;\n",
       "    }\n",
       "\n",
       "    .dataframe thead th {\n",
       "        text-align: right;\n",
       "    }\n",
       "</style>\n",
       "<table border=\"1\" class=\"dataframe\">\n",
       "  <thead>\n",
       "    <tr style=\"text-align: right;\">\n",
       "      <th></th>\n",
       "      <th>country</th>\n",
       "      <th>date</th>\n",
       "      <th>Country ISO3</th>\n",
       "    </tr>\n",
       "  </thead>\n",
       "  <tbody>\n",
       "    <tr>\n",
       "      <th>0</th>\n",
       "      <td>Aruba</td>\n",
       "      <td>2019</td>\n",
       "      <td>None</td>\n",
       "    </tr>\n",
       "    <tr>\n",
       "      <th>1</th>\n",
       "      <td>Aruba</td>\n",
       "      <td>2018</td>\n",
       "      <td>None</td>\n",
       "    </tr>\n",
       "    <tr>\n",
       "      <th>2</th>\n",
       "      <td>Afghanistan</td>\n",
       "      <td>2019</td>\n",
       "      <td>None</td>\n",
       "    </tr>\n",
       "    <tr>\n",
       "      <th>3</th>\n",
       "      <td>Afghanistan</td>\n",
       "      <td>2018</td>\n",
       "      <td>None</td>\n",
       "    </tr>\n",
       "    <tr>\n",
       "      <th>4</th>\n",
       "      <td>Angola</td>\n",
       "      <td>2019</td>\n",
       "      <td>None</td>\n",
       "    </tr>\n",
       "    <tr>\n",
       "      <th>...</th>\n",
       "      <td>...</td>\n",
       "      <td>...</td>\n",
       "      <td>...</td>\n",
       "    </tr>\n",
       "    <tr>\n",
       "      <th>437</th>\n",
       "      <td>South Africa</td>\n",
       "      <td>2018</td>\n",
       "      <td>None</td>\n",
       "    </tr>\n",
       "    <tr>\n",
       "      <th>438</th>\n",
       "      <td>Zambia</td>\n",
       "      <td>2019</td>\n",
       "      <td>None</td>\n",
       "    </tr>\n",
       "    <tr>\n",
       "      <th>439</th>\n",
       "      <td>Zambia</td>\n",
       "      <td>2018</td>\n",
       "      <td>None</td>\n",
       "    </tr>\n",
       "    <tr>\n",
       "      <th>440</th>\n",
       "      <td>Zimbabwe</td>\n",
       "      <td>2019</td>\n",
       "      <td>None</td>\n",
       "    </tr>\n",
       "    <tr>\n",
       "      <th>441</th>\n",
       "      <td>Zimbabwe</td>\n",
       "      <td>2018</td>\n",
       "      <td>None</td>\n",
       "    </tr>\n",
       "  </tbody>\n",
       "</table>\n",
       "<p>442 rows × 3 columns</p>\n",
       "</div>"
      ],
      "text/plain": [
       "          country  date Country ISO3\n",
       "0           Aruba  2019         None\n",
       "1           Aruba  2018         None\n",
       "2     Afghanistan  2019         None\n",
       "3     Afghanistan  2018         None\n",
       "4          Angola  2019         None\n",
       "..            ...   ...          ...\n",
       "437  South Africa  2018         None\n",
       "438        Zambia  2019         None\n",
       "439        Zambia  2018         None\n",
       "440      Zimbabwe  2019         None\n",
       "441      Zimbabwe  2018         None\n",
       "\n",
       "[442 rows x 3 columns]"
      ]
     },
     "execution_count": 58,
     "metadata": {},
     "output_type": "execute_result"
    }
   ],
   "source": [
    "df1.reset_index()"
   ]
  },
  {
   "cell_type": "code",
   "execution_count": 49,
   "metadata": {
    "ExecuteTime": {
     "end_time": "2021-08-04T18:26:06.642605Z",
     "start_time": "2021-08-04T18:26:05.426839Z"
    }
   },
   "outputs": [
    {
     "data": {
      "text/plain": [
       "id                     name\n",
       "---------------------  ---------------------------------------------------------------------------------------------------------\n",
       "BI.PWK.CMPA.GE.MD      Cross-country public sector pay comparison ratio, by occupation: Government economist (using median)\n",
       "BI.PWK.CMPA.GE.SM      Cross-country public sector pay comparison ratio, by occupation: Government economist (using mean)\n",
       "BI.PWK.CMPA.HD.MD      Cross-country public sector pay comparison ratio, by occupation: Hospital doctor (using median)\n",
       "BI.PWK.CMPA.HD.SM      Cross-country public sector pay comparison ratio, by occupation: Hospital doctor (using mean)\n",
       "BI.PWK.CMPA.HN.MD      Cross-country public sector pay comparison ratio, by occupation: Hospital nurse (using median)\n",
       "BI.PWK.CMPA.HN.SM      Cross-country public sector pay comparison ratio, by occupation: Hospital nurse (using mean)\n",
       "BI.PWK.CMPA.JU.MD      Cross-country public sector pay comparison ratio, by occupation: Judge (using median)\n",
       "BI.PWK.CMPA.JU.SM      Cross-country public sector pay comparison ratio, by occupation: Judge (using mean)\n",
       "BI.PWK.CMPA.PO.MD      Cross-country public sector pay comparison ratio, by occupation: Police officer (using median)\n",
       "BI.PWK.CMPA.PO.SM      Cross-country public sector pay comparison ratio, by occupation: Police officer (using mean)\n",
       "BI.PWK.CMPA.PT.MD      Cross-country public sector pay comparison ratio, by occupation: Primary school teacher (using median)\n",
       "BI.PWK.CMPA.PT.SM      Cross-country public sector pay comparison ratio, by occupation: Primary school teacher (using mean)\n",
       "BI.PWK.CMPA.SN.MD      Cross-country public sector pay comparison ratio, by occupation: Senior official (using median)\n",
       "BI.PWK.CMPA.SN.SM      Cross-country public sector pay comparison ratio, by occupation: Senior official (using mean)\n",
       "BI.PWK.CMPA.ST.MD      Cross-country public sector pay comparison ratio, by occupation: Secondary school teacher (using median)\n",
       "BI.PWK.CMPA.ST.SM      Cross-country public sector pay comparison ratio, by occupation: Secondary school teacher (using mean)\n",
       "BI.PWK.CMPA.UT.MD      Cross-country public sector pay comparison ratio, by occupation: University teacher (using median)\n",
       "BI.PWK.CMPA.UT.SM      Cross-country public sector pay comparison ratio, by occupation: University teacher (using mean)\n",
       "C0.02                  Country ISO3\n",
       "FB.INC.INST.FW.CB      001_Does a regulatory/supervisory framework exist for commercial banks?_#VGAA_00\n",
       "FB.INC.INST.FW.FC      003_Does a regulatory/supervisory framework exist for financial cooperatives?_#VGAA_02\n",
       "FB.INC.INST.FW.MC      005_Does a regulatory/supervisory framework exist for microcredit institutions (MCIs)?_#VGAA_04\n",
       "FB.INC.INST.FW.NB      006_Does a regulatory/supervisory framework exist for non-bank e-money issuers (NBEIs)?_#VGAA_05\n",
       "FB.INC.INST.FW.OB      002_Does a regulatory/supervisory framework exist for other banks?_#VGAA_01\n",
       "FB.INC.INST.FW.OD      004_Does a regulatory/supervisory framework exist for other deposit taking institutions (ODTIs)?_#VGAA_03\n",
       "IC.FRM.CRM.CRIME8      Percent of firms identifying crime, theft and disorder as a major constraint\n",
       "IC.FRM.OBS.OBST6       Percent of firms choosing crime, theft and disorder as their biggest obstacle\n",
       "IN.HLTH.HLTHSTAFF.NUM  Health visitors & Health supervisors\n",
       "LO.EGRA.CWPM.AFA.2GRD  EGRA: Correct Isolated Words Read Per Minute (Mean). Afan Oromo. 2nd Grade\n",
       "LO.EGRA.CWPM.AFA.3GRD  EGRA: Correct Isolated Words Read Per Minute (Mean). Afan Oromo. 3rd Grade\n",
       "LO.EGRA.CWPM.AMH.2GRD  EGRA: Correct Isolated Words Read Per Minute (Mean). Amharic. 2nd Grade\n",
       "LO.EGRA.CWPM.AMH.3GRD  EGRA: Correct Isolated Words Read Per Minute (Mean). Amharic. 3rd Grade\n",
       "LO.EGRA.CWPM.ARB.2GRD  EGRA: Correct Isolated Words Read Per Minute (Mean). Arabic. 2nd Grade\n",
       "LO.EGRA.CWPM.BMN.2GRD  EGRA: Correct Isolated Words Read Per Minute (Mean). Bamanankan. 2nd Grade\n",
       "LO.EGRA.CWPM.BOM.2GRD  EGRA: Correct Isolated Words Read Per Minute (Mean). Bomu. 2nd Grade\n",
       "LO.EGRA.CWPM.CHC.2GRD  EGRA: Correct Isolated Words Read Per Minute (Mean). Chichewa. 2nd Grade\n",
       "LO.EGRA.CWPM.CHC.4GRD  EGRA: Correct Isolated Words Read Per Minute (Mean). Chichewa. 4th Grade\n",
       "LO.EGRA.CWPM.ENG.2GRD  EGRA: Correct Isolated Words Read Per Minute (Mean). English. 2nd Grade\n",
       "LO.EGRA.CWPM.ENG.3GRD  EGRA: Correct Isolated Words Read Per Minute (Mean). English. 3rd Grade\n",
       "LO.EGRA.CWPM.ENG.4GRD  EGRA: Correct Isolated Words Read Per Minute (Mean). English. 4th Grade\n",
       "LO.EGRA.CWPM.ENG.6GRD  EGRA: Correct Isolated Words Read Per Minute (Mean). English. 6th Grade\n",
       "LO.EGRA.CWPM.FLF.2GRD  EGRA: Correct Isolated Words Read Per Minute (Mean). Fulfulde. 2nd Grade\n",
       "LO.EGRA.CWPM.FLP.3GRD  EGRA: Correct Isolated Words Read Per Minute (Mean). Filipino. 3rd Grade\n",
       "LO.EGRA.CWPM.HAR.2GRD  EGRA: Correct Isolated Words Read Per Minute (Mean). Hararigna. 2nd Grade\n",
       "LO.EGRA.CWPM.HAR.3GRD  EGRA: Correct Isolated Words Read Per Minute (Mean). Hararigna. 3rd Grade\n",
       "LO.EGRA.CWPM.KIS.2GRD  EGRA: Correct Isolated Words Read Per Minute (Mean). Kiswahili. 2nd Grade\n",
       "LO.EGRA.CWPM.KNY.4GRD  EGRA: Correct Isolated Words Read Per Minute (Mean). Kinyarwanda. 4th Grade\n",
       "LO.EGRA.CWPM.KNY.6GRD  EGRA: Correct Isolated Words Read Per Minute (Mean). Kinyarwanda. 6th Grade\n",
       "LO.EGRA.CWPM.SID.2GRD  EGRA: Correct Isolated Words Read Per Minute (Mean). Sidaamu Afoo. 2nd Grade\n",
       "LO.EGRA.CWPM.SID.3GRD  EGRA: Correct Isolated Words Read Per Minute (Mean). Sidaamu Afoo. 3rd Grade\n",
       "LO.EGRA.CWPM.SNG.2GRD  EGRA: Correct Isolated Words Read Per Minute (Mean). Songhoi. 2nd Grade\n",
       "LO.EGRA.CWPM.SOM.2GRD  EGRA: Correct Isolated Words Read Per Minute (Mean). Somaligna. 2nd Grade\n",
       "LO.EGRA.CWPM.SOM.3GRD  EGRA: Correct Isolated Words Read Per Minute (Mean). Somaligna. 3rd Grade\n",
       "LO.EGRA.CWPM.SPN.2GRD  EGRA: Correct Isolated Words Read Per Minute (Mean). Spanish. 2nd Grade\n",
       "LO.EGRA.CWPM.SPN.3GRD  EGRA: Correct Isolated Words Read Per Minute (Mean). Spanish. 3rd Grade\n",
       "LO.EGRA.CWPM.SPN.4GRD  EGRA: Correct Isolated Words Read Per Minute (Mean). Spanish. 4th Grade\n",
       "LO.EGRA.CWPM.TIG.2GRD  EGRA: Correct Isolated Words Read Per Minute (Mean). Tigrinya. 2nd Grade\n",
       "LO.EGRA.CWPM.TIG.3GRD  EGRA: Correct Isolated Words Read Per Minute (Mean). Tigrinya. 3rd Grade\n",
       "SH.STA.POIS.P5         Mortality rate attributed to unintentional poisoning (per 100,000 population)\n",
       "SH.STA.POIS.P5.FE      Mortality rate attributed to unintentional poisoning, female (per 100,000 female population)\n",
       "SH.STA.POIS.P5.MA      Mortality rate attributed to unintentional poisoning, male (per 100,000 male population)\n",
       "SPI.D2.3.DSAS          NSO Website - advisory/analytical services"
      ]
     },
     "execution_count": 49,
     "metadata": {},
     "output_type": "execute_result"
    }
   ],
   "source": [
    "wbdata.search_indicators(\"ISO\")"
   ]
  },
  {
   "cell_type": "code",
   "execution_count": 22,
   "metadata": {
    "ExecuteTime": {
     "end_time": "2021-08-04T18:00:10.509708Z",
     "start_time": "2021-08-04T17:59:43.120056Z"
    }
   },
   "outputs": [],
   "source": [
    "data = wbdata.get_dataframe(indicators=indicators)"
   ]
  },
  {
   "cell_type": "code",
   "execution_count": 23,
   "metadata": {
    "ExecuteTime": {
     "end_time": "2021-08-04T18:00:38.446755Z",
     "start_time": "2021-08-04T18:00:38.425259Z"
    }
   },
   "outputs": [
    {
     "data": {
      "text/html": [
       "<div>\n",
       "<style scoped>\n",
       "    .dataframe tbody tr th:only-of-type {\n",
       "        vertical-align: middle;\n",
       "    }\n",
       "\n",
       "    .dataframe tbody tr th {\n",
       "        vertical-align: top;\n",
       "    }\n",
       "\n",
       "    .dataframe thead th {\n",
       "        text-align: right;\n",
       "    }\n",
       "</style>\n",
       "<table border=\"1\" class=\"dataframe\">\n",
       "  <thead>\n",
       "    <tr style=\"text-align: right;\">\n",
       "      <th></th>\n",
       "      <th></th>\n",
       "      <th>Gini Index</th>\n",
       "      <th>GDP per capita (constant 2010 US$)</th>\n",
       "      <th>Population</th>\n",
       "    </tr>\n",
       "    <tr>\n",
       "      <th>country</th>\n",
       "      <th>date</th>\n",
       "      <th></th>\n",
       "      <th></th>\n",
       "      <th></th>\n",
       "    </tr>\n",
       "  </thead>\n",
       "  <tbody>\n",
       "    <tr>\n",
       "      <th rowspan=\"5\" valign=\"top\">Africa Eastern and Southern</th>\n",
       "      <th>2020</th>\n",
       "      <td>NaN</td>\n",
       "      <td>3387.594670</td>\n",
       "      <td>677243299.0</td>\n",
       "    </tr>\n",
       "    <tr>\n",
       "      <th>2019</th>\n",
       "      <td>NaN</td>\n",
       "      <td>3568.597017</td>\n",
       "      <td>660046272.0</td>\n",
       "    </tr>\n",
       "    <tr>\n",
       "      <th>2018</th>\n",
       "      <td>NaN</td>\n",
       "      <td>3579.271917</td>\n",
       "      <td>643090131.0</td>\n",
       "    </tr>\n",
       "    <tr>\n",
       "      <th>2017</th>\n",
       "      <td>NaN</td>\n",
       "      <td>3569.667028</td>\n",
       "      <td>626392880.0</td>\n",
       "    </tr>\n",
       "    <tr>\n",
       "      <th>2016</th>\n",
       "      <td>NaN</td>\n",
       "      <td>3546.711250</td>\n",
       "      <td>609978946.0</td>\n",
       "    </tr>\n",
       "  </tbody>\n",
       "</table>\n",
       "</div>"
      ],
      "text/plain": [
       "                                  Gini Index  \\\n",
       "country                     date               \n",
       "Africa Eastern and Southern 2020         NaN   \n",
       "                            2019         NaN   \n",
       "                            2018         NaN   \n",
       "                            2017         NaN   \n",
       "                            2016         NaN   \n",
       "\n",
       "                                  GDP per capita (constant 2010 US$)  \\\n",
       "country                     date                                       \n",
       "Africa Eastern and Southern 2020                         3387.594670   \n",
       "                            2019                         3568.597017   \n",
       "                            2018                         3579.271917   \n",
       "                            2017                         3569.667028   \n",
       "                            2016                         3546.711250   \n",
       "\n",
       "                                   Population  \n",
       "country                     date               \n",
       "Africa Eastern and Southern 2020  677243299.0  \n",
       "                            2019  660046272.0  \n",
       "                            2018  643090131.0  \n",
       "                            2017  626392880.0  \n",
       "                            2016  609978946.0  "
      ]
     },
     "execution_count": 23,
     "metadata": {},
     "output_type": "execute_result"
    }
   ],
   "source": [
    "data.head()"
   ]
  },
  {
   "cell_type": "code",
   "execution_count": 24,
   "metadata": {
    "ExecuteTime": {
     "end_time": "2021-08-04T18:00:58.096997Z",
     "start_time": "2021-08-04T18:00:58.077476Z"
    }
   },
   "outputs": [],
   "source": [
    "data = data.reset_index()"
   ]
  },
  {
   "cell_type": "code",
   "execution_count": 27,
   "metadata": {
    "ExecuteTime": {
     "end_time": "2021-08-04T18:02:46.747552Z",
     "start_time": "2021-08-04T18:02:46.733867Z"
    }
   },
   "outputs": [
    {
     "data": {
      "text/plain": [
       "45376763.0"
      ]
     },
     "execution_count": 27,
     "metadata": {},
     "output_type": "execute_result"
    }
   ],
   "source": [
    "data[data[\"country\"]=='Argentina'].iloc[0,-1]"
   ]
  },
  {
   "cell_type": "code",
   "execution_count": 35,
   "metadata": {
    "ExecuteTime": {
     "end_time": "2021-08-04T18:07:39.926004Z",
     "start_time": "2021-08-04T18:06:47.486039Z"
    }
   },
   "outputs": [],
   "source": [
    "df = pd.DataFrame(columns= ['Country','Gini','GDP','Population'], index=None)\n",
    "for country in data[\"country\"].unique():\n",
    "    if data[data[\"country\"]==country]['Gini Index'].notna().sum() != 0 and data[data[\"country\"]==country]['GDP per capita (constant 2010 US$)'].notna().sum() != 0:\n",
    "        gini = [data[data[\"country\"]==country]['Gini Index'].iloc[i] for i in range(len(data[data[\"country\"]==country])) if data[data[\"country\"]==country]['Gini Index'].notna().iloc[i]]\n",
    "        gdp = [data[data[\"country\"]==country]['GDP per capita (constant 2010 US$)'].iloc[i] for i in range(len(data[data[\"country\"]==country])) if data[data[\"country\"]==country]['GDP per capita (constant 2010 US$)'].notna().iloc[i]]\n",
    "        pop = data[data[\"country\"]==country].iloc[0,-1]\n",
    "        df = df.append({'Country':country,\n",
    "                        'Gini':gini[0],\n",
    "                        'GDP':gdp[0],\n",
    "                        'Population':pop}, ignore_index=True)"
   ]
  },
  {
   "cell_type": "code",
   "execution_count": 36,
   "metadata": {
    "ExecuteTime": {
     "end_time": "2021-08-04T18:07:57.886365Z",
     "start_time": "2021-08-04T18:07:57.836391Z"
    }
   },
   "outputs": [
    {
     "data": {
      "text/html": [
       "<div>\n",
       "<style scoped>\n",
       "    .dataframe tbody tr th:only-of-type {\n",
       "        vertical-align: middle;\n",
       "    }\n",
       "\n",
       "    .dataframe tbody tr th {\n",
       "        vertical-align: top;\n",
       "    }\n",
       "\n",
       "    .dataframe thead th {\n",
       "        text-align: right;\n",
       "    }\n",
       "</style>\n",
       "<table border=\"1\" class=\"dataframe\">\n",
       "  <thead>\n",
       "    <tr style=\"text-align: right;\">\n",
       "      <th></th>\n",
       "      <th>Country</th>\n",
       "      <th>Gini</th>\n",
       "      <th>GDP</th>\n",
       "      <th>Population</th>\n",
       "    </tr>\n",
       "  </thead>\n",
       "  <tbody>\n",
       "    <tr>\n",
       "      <th>0</th>\n",
       "      <td>Albania</td>\n",
       "      <td>33.2</td>\n",
       "      <td>13295.410885</td>\n",
       "      <td>2837743.0</td>\n",
       "    </tr>\n",
       "    <tr>\n",
       "      <th>1</th>\n",
       "      <td>Algeria</td>\n",
       "      <td>27.6</td>\n",
       "      <td>10681.679297</td>\n",
       "      <td>43851043.0</td>\n",
       "    </tr>\n",
       "    <tr>\n",
       "      <th>2</th>\n",
       "      <td>Angola</td>\n",
       "      <td>51.3</td>\n",
       "      <td>6198.083841</td>\n",
       "      <td>32866268.0</td>\n",
       "    </tr>\n",
       "    <tr>\n",
       "      <th>3</th>\n",
       "      <td>Argentina</td>\n",
       "      <td>42.9</td>\n",
       "      <td>19686.523659</td>\n",
       "      <td>45376763.0</td>\n",
       "    </tr>\n",
       "    <tr>\n",
       "      <th>4</th>\n",
       "      <td>Armenia</td>\n",
       "      <td>29.9</td>\n",
       "      <td>12592.635368</td>\n",
       "      <td>2963234.0</td>\n",
       "    </tr>\n",
       "  </tbody>\n",
       "</table>\n",
       "</div>"
      ],
      "text/plain": [
       "     Country  Gini           GDP  Population\n",
       "0    Albania  33.2  13295.410885   2837743.0\n",
       "1    Algeria  27.6  10681.679297  43851043.0\n",
       "2     Angola  51.3   6198.083841  32866268.0\n",
       "3  Argentina  42.9  19686.523659  45376763.0\n",
       "4    Armenia  29.9  12592.635368   2963234.0"
      ]
     },
     "execution_count": 36,
     "metadata": {},
     "output_type": "execute_result"
    }
   ],
   "source": [
    "df.head()"
   ]
  },
  {
   "cell_type": "code",
   "execution_count": 9,
   "metadata": {
    "ExecuteTime": {
     "end_time": "2021-08-04T17:49:28.678017Z",
     "start_time": "2021-08-04T17:49:28.672987Z"
    }
   },
   "outputs": [],
   "source": [
    "df = df.set_index(\"Country\")"
   ]
  },
  {
   "cell_type": "code",
   "execution_count": 10,
   "metadata": {
    "ExecuteTime": {
     "end_time": "2021-08-04T17:49:28.704397Z",
     "start_time": "2021-08-04T17:49:28.683159Z"
    }
   },
   "outputs": [
    {
     "data": {
      "text/plain": [
       "(-6.161114963024121,\n",
       " 62.781972383145074,\n",
       " -0.37882310730237356,\n",
       " 6.151978699393198e-07,\n",
       " 1.186238007740407)"
      ]
     },
     "execution_count": 10,
     "metadata": {},
     "output_type": "execute_result"
    }
   ],
   "source": [
    "slope, intercept, r_value, p_value, std_err = stats.linregress(np.log10(df[\"GDP\"]), df[\"Gini\"])\n",
    "slope, intercept, r_value, p_value, std_err"
   ]
  },
  {
   "cell_type": "code",
   "execution_count": 11,
   "metadata": {
    "ExecuteTime": {
     "end_time": "2021-08-04T17:49:28.719102Z",
     "start_time": "2021-08-04T17:49:28.709749Z"
    }
   },
   "outputs": [],
   "source": [
    "sa = [\"Argentina\", \"Bolivia\", \"Brazil\", \"Colombia\", \"Ecuador\", \"Paraguay\", \"Peru\", \"Uruguay\"]"
   ]
  },
  {
   "cell_type": "code",
   "execution_count": 12,
   "metadata": {
    "ExecuteTime": {
     "end_time": "2021-08-04T17:53:16.759022Z",
     "start_time": "2021-08-04T17:49:50.918608Z"
    }
   },
   "outputs": [
    {
     "data": {
      "image/png": "[encoded data removed]",
      "text/plain": [
       "<Figure size 720x720 with 1 Axes>"
      ]
     },
     "metadata": {
      "needs_background": "light"
     },
     "output_type": "display_data"
    }
   ],
   "source": [
    "fig, ax = plt.subplots(figsize=(10,10))\n",
    "ax = sns.regplot(x=np.log10(df[\"GDP\"]), y=df[\"Gini\"], color = '#092CDB', line_kws={'label':f'$Gini={slope:.2f}*log10(PIB)+{intercept:.1f}$'}, scatter_kws={'s':20});\n",
    "ax.plot(np.log10(df.loc[\"Chile\",\"GDP\"]),df.loc[\"Chile\",\"Gini\"], marker=\"*\", color=\"C3\")\n",
    "for c in sa:\n",
    "    ax.plot(np.log10(df.loc[c,\"GDP\"]), df.loc[c,\"Gini\"], marker='o', color=\"green\")\n",
    "plt.arrow(4.7,60,0.2,0, length_includes_head=True, head_width=0.5, head_length=0.02, color=\"black\")\n",
    "plt.arrow(4.55,58,0,-3.5, length_includes_head=True, head_width=0.02, head_length=0.5, color=\"black\")\n",
    "plt.annotate(\"Mayor riqueza\",(4.8,61), va='bottom', ha='center', fontsize=12)\n",
    "plt.annotate(\"Menor desigualdad\",(4.8,56), va='bottom', ha='center', fontsize=12)\n",
    "texts = [plt.annotate(txt, (np.log10(df.iloc[i,1]), df.iloc[i,0]), textcoords=\"offset points\", xytext=(-1,2), fontsize=\"medium\") for i, txt in enumerate(df.index)]\n",
    "adjust_text(texts)\n",
    "ax.set_xticks([np.log10(10**3), np.log10(5000), np.log10(10**4), np.log10(50000), np.log10(10**5)])\n",
    "ax.set_xticklabels([\"1.000\",\"5.000\",\"10.000\",\"50.000\",\"100.000\"])\n",
    "ax.set_xlabel(f'PIB per cápita (USD ajustados por inflación a valor 2010) (escala logarítmica)', fontsize='x-large')\n",
    "ax.set_ylabel(f\"Índice de Gini\", fontsize=\"x-large\")\n",
    "ax.legend(loc='lower left')\n",
    "plt.show()"
   ]
  },
  {
   "cell_type": "code",
   "execution_count": 37,
   "metadata": {
    "ExecuteTime": {
     "end_time": "2021-08-04T18:08:11.085478Z",
     "start_time": "2021-08-04T18:08:11.067464Z"
    }
   },
   "outputs": [],
   "source": [
    "df[\"GDP\"] = np.log10(df[\"GDP\"])"
   ]
  },
  {
   "cell_type": "code",
   "execution_count": 44,
   "metadata": {
    "ExecuteTime": {
     "end_time": "2021-08-04T18:11:20.830280Z",
     "start_time": "2021-08-04T18:11:20.819539Z"
    }
   },
   "outputs": [],
   "source": [
    "df[\"Population\"] = np.exp(df[\"Population\"])"
   ]
  },
  {
   "cell_type": "code",
   "execution_count": 39,
   "metadata": {
    "ExecuteTime": {
     "end_time": "2021-08-04T18:08:26.878025Z",
     "start_time": "2021-08-04T18:08:26.858458Z"
    }
   },
   "outputs": [],
   "source": [
    "df = df.reset_index()"
   ]
  },
  {
   "cell_type": "code",
   "execution_count": 45,
   "metadata": {
    "ExecuteTime": {
     "end_time": "2021-08-04T18:11:24.210695Z",
     "start_time": "2021-08-04T18:11:24.098436Z"
    }
   },
   "outputs": [
    {
     "data": {
      "application/vnd.plotly.v1+json": {
       "config": {
        "plotlyServerURL": "https://plot.ly"
       },
       "data": [
        {
         "customdata": [
          [
           "Albania"
          ],
          [
           "Algeria"
          ],
          [
           "Angola"
          ],
          [
           "Argentina"
          ],
          [
           "Armenia"
          ],
          [
           "Australia"
          ],
          [
           "Austria"
          ],
          [
           "Azerbaijan"
          ],
          [
           "Bangladesh"
          ],
          [
           "Belarus"
          ],
          [
           "Belgium"
          ],
          [
           "Belize"
          ],
          [
           "Benin"
          ],
          [
           "Bhutan"
          ],
          [
           "Bolivia"
          ],
          [
           "Bosnia and Herzegovina"
          ],
          [
           "Botswana"
          ],
          [
           "Brazil"
          ],
          [
           "Bulgaria"
          ],
          [
           "Burkina Faso"
          ],
          [
           "Burundi"
          ],
          [
           "Cabo Verde"
          ],
          [
           "Cameroon"
          ],
          [
           "Canada"
          ],
          [
           "Central African Republic"
          ],
          [
           "Chad"
          ],
          [
           "Chile"
          ],
          [
           "China"
          ],
          [
           "Colombia"
          ],
          [
           "Comoros"
          ],
          [
           "Congo, Dem. Rep."
          ],
          [
           "Congo, Rep."
          ],
          [
           "Costa Rica"
          ],
          [
           "Cote d'Ivoire"
          ],
          [
           "Croatia"
          ],
          [
           "Cyprus"
          ],
          [
           "Czech Republic"
          ],
          [
           "Denmark"
          ],
          [
           "Djibouti"
          ],
          [
           "Dominican Republic"
          ],
          [
           "Ecuador"
          ],
          [
           "Egypt, Arab Rep."
          ],
          [
           "El Salvador"
          ],
          [
           "Estonia"
          ],
          [
           "Eswatini"
          ],
          [
           "Ethiopia"
          ],
          [
           "Fiji"
          ],
          [
           "Finland"
          ],
          [
           "France"
          ],
          [
           "Gabon"
          ],
          [
           "Gambia, The"
          ],
          [
           "Georgia"
          ],
          [
           "Germany"
          ],
          [
           "Ghana"
          ],
          [
           "Greece"
          ],
          [
           "Guatemala"
          ],
          [
           "Guinea"
          ],
          [
           "Guinea-Bissau"
          ],
          [
           "Guyana"
          ],
          [
           "Haiti"
          ],
          [
           "Honduras"
          ],
          [
           "Hungary"
          ],
          [
           "Iceland"
          ],
          [
           "India"
          ],
          [
           "Indonesia"
          ],
          [
           "Iran, Islamic Rep."
          ],
          [
           "Iraq"
          ],
          [
           "Ireland"
          ],
          [
           "Israel"
          ],
          [
           "Italy"
          ],
          [
           "Jamaica"
          ],
          [
           "Japan"
          ],
          [
           "Jordan"
          ],
          [
           "Kazakhstan"
          ],
          [
           "Kenya"
          ],
          [
           "Kiribati"
          ],
          [
           "Korea, Rep."
          ],
          [
           "Kosovo"
          ],
          [
           "Kyrgyz Republic"
          ],
          [
           "Lao PDR"
          ],
          [
           "Latvia"
          ],
          [
           "Lebanon"
          ],
          [
           "Lesotho"
          ],
          [
           "Liberia"
          ],
          [
           "Lithuania"
          ],
          [
           "Luxembourg"
          ],
          [
           "Madagascar"
          ],
          [
           "Malawi"
          ],
          [
           "Malaysia"
          ],
          [
           "Maldives"
          ],
          [
           "Mali"
          ],
          [
           "Malta"
          ],
          [
           "Mauritania"
          ],
          [
           "Mauritius"
          ],
          [
           "Mexico"
          ],
          [
           "Micronesia, Fed. Sts."
          ],
          [
           "Moldova"
          ],
          [
           "Mongolia"
          ],
          [
           "Montenegro"
          ],
          [
           "Morocco"
          ],
          [
           "Mozambique"
          ],
          [
           "Myanmar"
          ],
          [
           "Namibia"
          ],
          [
           "Nauru"
          ],
          [
           "Nepal"
          ],
          [
           "Netherlands"
          ],
          [
           "Nicaragua"
          ],
          [
           "Niger"
          ],
          [
           "Nigeria"
          ],
          [
           "North Macedonia"
          ],
          [
           "Norway"
          ],
          [
           "Pakistan"
          ],
          [
           "Panama"
          ],
          [
           "Papua New Guinea"
          ],
          [
           "Paraguay"
          ],
          [
           "Peru"
          ],
          [
           "Philippines"
          ],
          [
           "Poland"
          ],
          [
           "Portugal"
          ],
          [
           "Romania"
          ],
          [
           "Russian Federation"
          ],
          [
           "Rwanda"
          ],
          [
           "Samoa"
          ],
          [
           "Sao Tome and Principe"
          ],
          [
           "Senegal"
          ],
          [
           "Serbia"
          ],
          [
           "Seychelles"
          ],
          [
           "Sierra Leone"
          ],
          [
           "Slovak Republic"
          ],
          [
           "Slovenia"
          ],
          [
           "Solomon Islands"
          ],
          [
           "Somalia"
          ],
          [
           "South Africa"
          ],
          [
           "Spain"
          ],
          [
           "Sri Lanka"
          ],
          [
           "St. Lucia"
          ],
          [
           "Sudan"
          ],
          [
           "Suriname"
          ],
          [
           "Sweden"
          ],
          [
           "Switzerland"
          ],
          [
           "Tajikistan"
          ],
          [
           "Tanzania"
          ],
          [
           "Thailand"
          ],
          [
           "Timor-Leste"
          ],
          [
           "Togo"
          ],
          [
           "Tonga"
          ],
          [
           "Trinidad and Tobago"
          ],
          [
           "Tunisia"
          ],
          [
           "Turkey"
          ],
          [
           "Turkmenistan"
          ],
          [
           "Tuvalu"
          ],
          [
           "Uganda"
          ],
          [
           "Ukraine"
          ],
          [
           "United Arab Emirates"
          ],
          [
           "United Kingdom"
          ],
          [
           "United States"
          ],
          [
           "Uruguay"
          ],
          [
           "Uzbekistan"
          ],
          [
           "Vanuatu"
          ],
          [
           "Vietnam"
          ],
          [
           "West Bank and Gaza"
          ],
          [
           "Zambia"
          ],
          [
           "Zimbabwe"
          ]
         ],
         "hovertemplate": "GDP=%{x}<br>Gini=%{y}<br>Population=%{marker.size}<br>Country=%{customdata[0]}<extra></extra>",
         "legendgroup": "",
         "marker": {
          "color": "#636efa",
          "size": [
           2837743.000000002,
           43851042.99999995,
           32866267.999999944,
           45376762.99999998,
           2963233.9999999995,
           25687041.00000002,
           8917205.000000002,
           10110116.000000006,
           164689382.99999988,
           9398861.000000013,
           11555997.00000002,
           397621.0000000002,
           12123198.000000013,
           771611.9999999999,
           11673029.000000007,
           3280814.9999999986,
           2351625,
           212559408.99999982,
           6927288.000000004,
           20903277.999999974,
           11890780.999999994,
           555987.9999999995,
           26545863.999999955,
           38005238.00000007,
           4829764,
           16425858.999999972,
           19116209.00000001,
           1402111999.9999993,
           50882883.99999998,
           869594.9999999999,
           89561404.00000001,
           5518091.999999995,
           5094114.000000002,
           26378274.999999993,
           4047200.000000002,
           1207361,
           10698896.000000017,
           5831404,
           988001.9999999992,
           10847904.000000011,
           17643060.00000001,
           102334402.99999987,
           6486200.999999996,
           1331056.9999999995,
           1160164,
           114963583.00000012,
           896443.9999999995,
           5530718.999999997,
           67391581.99999991,
           2225727.999999999,
           2416664.0000000023,
           3714000.000000001,
           83240524.99999991,
           31072944.99999999,
           10715549.000000017,
           16858332.999999978,
           13132792.000000006,
           1967998.0000000007,
           786558.9999999998,
           11402533.000000011,
           9904608.000000006,
           9749763.00000001,
           366424.9999999998,
           1380004385.0000007,
           273523621.0000001,
           83992952.99999993,
           40222503.00000006,
           4994724.000000004,
           9216900.000000011,
           59554023.0000001,
           2961161.0000000014,
           125836021.00000012,
           10203139.999999989,
           18754439.99999998,
           53771299.999999985,
           119445.99999999994,
           51780579.00000009,
           1775377.999999999,
           6591599.999999995,
           7275556.000000002,
           1901548.0000000014,
           6825441.999999997,
           2142252,
           5057677,
           2794699.999999999,
           632274.9999999999,
           27691019.000000015,
           19129954.99999997,
           32365997.999999996,
           540542.0000000003,
           20250834.000000034,
           525284.9999999999,
           4649659.999999996,
           1265740.0000000005,
           128932752.99999991,
           115020.99999999994,
           2617819.9999999995,
           3278292.000000002,
           621718.0000000001,
           36910557.99999996,
           31255435.00000001,
           54409794.000000075,
           2540916,
           10833.999999999996,
           29136807.99999997,
           17441138.999999978,
           6624553.999999995,
           24206636.00000001,
           206139587.00000036,
           2083380.000000001,
           5379475.000000004,
           220892330.99999976,
           4314767.999999998,
           8947027.000000007,
           7132530.000000004,
           32971846.000000052,
           109581084.99999997,
           37950802.00000006,
           10305564.000000011,
           19286122.999999978,
           144104079.9999999,
           12952209.000000006,
           198410,
           219161.00000000006,
           16743930.000000007,
           6908223.999999994,
           98462.00000000003,
           7976985.0000000065,
           5458827,
           2100126,
           686878,
           15893219.000000007,
           59308690.00000006,
           47351566.999999925,
           21918999.999999966,
           183629.00000000015,
           43849269.00000007,
           586633.9999999997,
           10353442.00000001,
           8636895.999999996,
           9537641.99999999,
           59734212.999999985,
           69799978.00000009,
           1318442.0000000002,
           8278737.000000007,
           105697.00000000003,
           1399491.0000000012,
           11818617.99999998,
           84339067.00000012,
           6031186.999999995,
           11791.99999999999,
           45741000.00000001,
           44134693.00000005,
           9890400.000000011,
           67215293.00000001,
           329484123.00000054,
           3473726.999999999,
           34232049.99999996,
           307150.00000000023,
           97338582.99999987,
           4803269.000000004,
           18383955.999999993,
           14862927.000000004
          ],
          "sizemode": "area",
          "sizeref": 3505279.999999998,
          "symbol": "circle"
         },
         "mode": "markers",
         "name": "",
         "orientation": "v",
         "showlegend": false,
         "type": "scatter",
         "x": [
          4.123701763414967,
          4.028639534722656,
          3.792257446590357,
          4.294169033098794,
          4.1001166281057015,
          4.687509671942399,
          4.715465185582913,
          4.136709966130703,
          3.6828753351352224,
          4.2821273902409445,
          4.683137429762808,
          3.786743451978264,
          3.5215492196316207,
          4.037788929526896,
          3.8993692532181847,
          4.1565440385340455,
          4.205204593360963,
          4.148108317497899,
          4.349933924288132,
          3.3345565882551638,
          2.8639549407458436,
          3.7814006793609742,
          3.553439953710539,
          4.6614020938802545,
          2.967823772094935,
          3.181818547170975,
          4.367812803532254,
          4.215129694417979,
          4.128447508667017,
          3.4970262846645763,
          3.0302798990161763,
          3.5377115397193797,
          4.294009395681804,
          3.7138348644814405,
          4.422673987491234,
          4.575824731952581,
          4.583417993839304,
          4.747708586816334,
          3.738868899656011,
          4.230525887392708,
          4.014066634128394,
          4.077420509043292,
          3.906148734030053,
          4.55191845816912,
          3.92390260825562,
          3.3611283513876167,
          4.041292923775201,
          4.674501073025084,
          4.623514102117328,
          4.158358535455798,
          3.3343415256697972,
          4.148889488482064,
          4.706908505996168,
          3.7246840394748477,
          4.4359571182798785,
          3.9239319516803124,
          3.4266451652753798,
          3.2665764131696435,
          4.2713764122768145,
          3.4429626122947248,
          3.710826674868937,
          4.491470511687243,
          4.718333326447499,
          3.7866348374734096,
          4.058614305069289,
          4.09458630711264,
          3.9663884781902228,
          4.952738973398241,
          4.58366691972957,
          4.590977164508331,
          3.941588468016947,
          4.616791468448227,
          3.9919590833776293,
          4.403757803652248,
          3.6253577560578516,
          3.360197032499286,
          4.6258415670045485,
          4.032461421356281,
          3.6727045441967068,
          3.8924173392723502,
          4.476142902815939,
          4.066290513526821,
          3.357915012627763,
          3.1315682780586322,
          4.565044986434837,
          5.042422546727639,
          3.179017707563853,
          3.1722461987420485,
          4.422182133428003,
          4.115578784062429,
          3.345721274548679,
          4.593531322632211,
          3.697510116092958,
          4.289355346940338,
          4.252555734391396,
          3.5398803414389537,
          4.090777635159513,
          4.059588930819416,
          4.261946036618714,
          3.839876737180783,
          3.08958015833865,
          3.6574403841167973,
          3.9490880014735925,
          4.131214715501785,
          3.5797911056253695,
          4.734075913008364,
          3.7226454855383255,
          3.078049724407353,
          3.691675598531863,
          4.199985952602405,
          4.803360846709625,
          3.664902358490801,
          4.404523246647934,
          3.6129129482067994,
          4.091155784404659,
          4.051571009735583,
          3.9005627435072387,
          4.5083702094667855,
          4.507601620874122,
          4.45988415564563,
          4.422530550145549,
          3.3219525066810673,
          3.799046221497699,
          3.607627081745419,
          3.518525191018648,
          4.2603100559893585,
          4.386711048195948,
          3.216971268981919,
          4.481873024408447,
          4.5628605142812075,
          3.3949543168294145,
          2.9188747263326276,
          4.059419121516812,
          4.5588938570635404,
          4.09819160823287,
          4.088845033062679,
          3.604535563034259,
          4.207638966267173,
          4.704865085584051,
          4.835013597219921,
          3.563193063009382,
          3.4208359767959777,
          4.237716280800765,
          3.5025823986056435,
          3.323845318966767,
          3.8046932542303553,
          4.375264037376613,
          3.9880014296351285,
          4.45308871166446,
          4.191406855318173,
          3.644537364544703,
          3.3379772809597745,
          4.092615997736448,
          4.8268464689213815,
          4.619376461681005,
          4.779854167072804,
          4.334623219016361,
          3.8447361475133355,
          3.441348093628963,
          3.913831428616141,
          3.7319167140069616,
          3.5145524159599764,
          3.4384934199595936
         ],
         "xaxis": "x",
         "y": [
          33.2,
          27.6,
          51.3,
          42.9,
          29.9,
          34.4,
          30.8,
          26.6,
          32.4,
          25.3,
          27.2,
          53.3,
          47.8,
          37.4,
          41.6,
          33,
          53.3,
          53.4,
          41.3,
          35.3,
          38.6,
          42.4,
          46.6,
          33.3,
          56.2,
          43.3,
          44.4,
          38.5,
          51.3,
          45.3,
          42.1,
          48.9,
          48.2,
          41.5,
          29.7,
          32.7,
          25,
          28.2,
          41.6,
          41.9,
          45.7,
          31.5,
          38.8,
          30.3,
          54.6,
          35,
          36.7,
          27.3,
          32.4,
          38,
          35.9,
          35.9,
          31.9,
          43.5,
          32.9,
          48.3,
          33.7,
          50.7,
          45.1,
          41.1,
          48.2,
          29.6,
          26.1,
          35.7,
          38.2,
          42,
          29.5,
          31.4,
          39,
          35.9,
          45.5,
          32.9,
          33.7,
          27.8,
          40.8,
          37,
          31.4,
          29,
          29.7,
          38.8,
          35.1,
          31.8,
          44.9,
          35.3,
          35.7,
          35.4,
          42.6,
          44.7,
          41.1,
          31.3,
          33,
          28.7,
          32.6,
          36.8,
          45.4,
          40.1,
          25.7,
          32.7,
          38.5,
          39.5,
          54,
          30.7,
          59.1,
          34.8,
          32.8,
          28.1,
          46.2,
          34.3,
          35.1,
          33,
          27.6,
          31.6,
          49.8,
          41.9,
          45.7,
          41.5,
          42.3,
          30.2,
          33.5,
          35.8,
          37.5,
          43.7,
          38.7,
          56.3,
          40.3,
          36.2,
          32.1,
          35.7,
          25,
          24.6,
          37.1,
          36.8,
          63,
          34.7,
          39.3,
          51.2,
          34.2,
          57.9,
          30,
          33.1,
          34,
          40.5,
          34.9,
          28.7,
          43.1,
          37.6,
          40.3,
          32.8,
          41.9,
          40.8,
          39.1,
          42.8,
          26.6,
          26,
          35.1,
          41.4,
          39.7,
          35.3,
          37.6,
          35.7,
          33.7,
          57.1,
          50.3
         ],
         "yaxis": "y"
        }
       ],
       "layout": {
        "legend": {
         "itemsizing": "constant",
         "tracegroupgap": 0
        },
        "margin": {
         "t": 60
        },
        "template": {
         "data": {
          "bar": [
           {
            "error_x": {
             "color": "#2a3f5f"
            },
            "error_y": {
             "color": "#2a3f5f"
            },
            "marker": {
             "line": {
              "color": "#E5ECF6",
              "width": 0.5
             },
             "pattern": {
              "fillmode": "overlay",
              "size": 10,
              "solidity": 0.2
             }
            },
            "type": "bar"
           }
          ],
          "barpolar": [
           {
            "marker": {
             "line": {
              "color": "#E5ECF6",
              "width": 0.5
             },
             "pattern": {
              "fillmode": "overlay",
              "size": 10,
              "solidity": 0.2
             }
            },
            "type": "barpolar"
           }
          ],
          "carpet": [
           {
            "aaxis": {
             "endlinecolor": "#2a3f5f",
             "gridcolor": "white",
             "linecolor": "white",
             "minorgridcolor": "white",
             "startlinecolor": "#2a3f5f"
            },
            "baxis": {
             "endlinecolor": "#2a3f5f",
             "gridcolor": "white",
             "linecolor": "white",
             "minorgridcolor": "white",
             "startlinecolor": "#2a3f5f"
            },
            "type": "carpet"
           }
          ],
          "choropleth": [
           {
            "colorbar": {
             "outlinewidth": 0,
             "ticks": ""
            },
            "type": "choropleth"
           }
          ],
          "contour": [
           {
            "colorbar": {
             "outlinewidth": 0,
             "ticks": ""
            },
            "colorscale": [
             [
              0,
              "#0d0887"
             ],
             [
              0.1111111111111111,
              "#46039f"
             ],
             [
              0.2222222222222222,
              "#7201a8"
             ],
             [
              0.3333333333333333,
              "#9c179e"
             ],
             [
              0.4444444444444444,
              "#bd3786"
             ],
             [
              0.5555555555555556,
              "#d8576b"
             ],
             [
              0.6666666666666666,
              "#ed7953"
             ],
             [
              0.7777777777777778,
              "#fb9f3a"
             ],
             [
              0.8888888888888888,
              "#fdca26"
             ],
             [
              1,
              "#f0f921"
             ]
            ],
            "type": "contour"
           }
          ],
          "contourcarpet": [
           {
            "colorbar": {
             "outlinewidth": 0,
             "ticks": ""
            },
            "type": "contourcarpet"
           }
          ],
          "heatmap": [
           {
            "colorbar": {
             "outlinewidth": 0,
             "ticks": ""
            },
            "colorscale": [
             [
              0,
              "#0d0887"
             ],
             [
              0.1111111111111111,
              "#46039f"
             ],
             [
              0.2222222222222222,
              "#7201a8"
             ],
             [
              0.3333333333333333,
              "#9c179e"
             ],
             [
              0.4444444444444444,
              "#bd3786"
             ],
             [
              0.5555555555555556,
              "#d8576b"
             ],
             [
              0.6666666666666666,
              "#ed7953"
             ],
             [
              0.7777777777777778,
              "#fb9f3a"
             ],
             [
              0.8888888888888888,
              "#fdca26"
             ],
             [
              1,
              "#f0f921"
             ]
            ],
            "type": "heatmap"
           }
          ],
          "heatmapgl": [
           {
            "colorbar": {
             "outlinewidth": 0,
             "ticks": ""
            },
            "colorscale": [
             [
              0,
              "#0d0887"
             ],
             [
              0.1111111111111111,
              "#46039f"
             ],
             [
              0.2222222222222222,
              "#7201a8"
             ],
             [
              0.3333333333333333,
              "#9c179e"
             ],
             [
              0.4444444444444444,
              "#bd3786"
             ],
             [
              0.5555555555555556,
              "#d8576b"
             ],
             [
              0.6666666666666666,
              "#ed7953"
             ],
             [
              0.7777777777777778,
              "#fb9f3a"
             ],
             [
              0.8888888888888888,
              "#fdca26"
             ],
             [
              1,
              "#f0f921"
             ]
            ],
            "type": "heatmapgl"
           }
          ],
          "histogram": [
           {
            "marker": {
             "pattern": {
              "fillmode": "overlay",
              "size": 10,
              "solidity": 0.2
             }
            },
            "type": "histogram"
           }
          ],
          "histogram2d": [
           {
            "colorbar": {
             "outlinewidth": 0,
             "ticks": ""
            },
            "colorscale": [
             [
              0,
              "#0d0887"
             ],
             [
              0.1111111111111111,
              "#46039f"
             ],
             [
              0.2222222222222222,
              "#7201a8"
             ],
             [
              0.3333333333333333,
              "#9c179e"
             ],
             [
              0.4444444444444444,
              "#bd3786"
             ],
             [
              0.5555555555555556,
              "#d8576b"
             ],
             [
              0.6666666666666666,
              "#ed7953"
             ],
             [
              0.7777777777777778,
              "#fb9f3a"
             ],
             [
              0.8888888888888888,
              "#fdca26"
             ],
             [
              1,
              "#f0f921"
             ]
            ],
            "type": "histogram2d"
           }
          ],
          "histogram2dcontour": [
           {
            "colorbar": {
             "outlinewidth": 0,
             "ticks": ""
            },
            "colorscale": [
             [
              0,
              "#0d0887"
             ],
             [
              0.1111111111111111,
              "#46039f"
             ],
             [
              0.2222222222222222,
              "#7201a8"
             ],
             [
              0.3333333333333333,
              "#9c179e"
             ],
             [
              0.4444444444444444,
              "#bd3786"
             ],
             [
              0.5555555555555556,
              "#d8576b"
             ],
             [
              0.6666666666666666,
              "#ed7953"
             ],
             [
              0.7777777777777778,
              "#fb9f3a"
             ],
             [
              0.8888888888888888,
              "#fdca26"
             ],
             [
              1,
              "#f0f921"
             ]
            ],
            "type": "histogram2dcontour"
           }
          ],
          "mesh3d": [
           {
            "colorbar": {
             "outlinewidth": 0,
             "ticks": ""
            },
            "type": "mesh3d"
           }
          ],
          "parcoords": [
           {
            "line": {
             "colorbar": {
              "outlinewidth": 0,
              "ticks": ""
             }
            },
            "type": "parcoords"
           }
          ],
          "pie": [
           {
            "automargin": true,
            "type": "pie"
           }
          ],
          "scatter": [
           {
            "marker": {
             "colorbar": {
              "outlinewidth": 0,
              "ticks": ""
             }
            },
            "type": "scatter"
           }
          ],
          "scatter3d": [
           {
            "line": {
             "colorbar": {
              "outlinewidth": 0,
              "ticks": ""
             }
            },
            "marker": {
             "colorbar": {
              "outlinewidth": 0,
              "ticks": ""
             }
            },
            "type": "scatter3d"
           }
          ],
          "scattercarpet": [
           {
            "marker": {
             "colorbar": {
              "outlinewidth": 0,
              "ticks": ""
             }
            },
            "type": "scattercarpet"
           }
          ],
          "scattergeo": [
           {
            "marker": {
             "colorbar": {
              "outlinewidth": 0,
              "ticks": ""
             }
            },
            "type": "scattergeo"
           }
          ],
          "scattergl": [
           {
            "marker": {
             "colorbar": {
              "outlinewidth": 0,
              "ticks": ""
             }
            },
            "type": "scattergl"
           }
          ],
          "scattermapbox": [
           {
            "marker": {
             "colorbar": {
              "outlinewidth": 0,
              "ticks": ""
             }
            },
            "type": "scattermapbox"
           }
          ],
          "scatterpolar": [
           {
            "marker": {
             "colorbar": {
              "outlinewidth": 0,
              "ticks": ""
             }
            },
            "type": "scatterpolar"
           }
          ],
          "scatterpolargl": [
           {
            "marker": {
             "colorbar": {
              "outlinewidth": 0,
              "ticks": ""
             }
            },
            "type": "scatterpolargl"
           }
          ],
          "scatterternary": [
           {
            "marker": {
             "colorbar": {
              "outlinewidth": 0,
              "ticks": ""
             }
            },
            "type": "scatterternary"
           }
          ],
          "surface": [
           {
            "colorbar": {
             "outlinewidth": 0,
             "ticks": ""
            },
            "colorscale": [
             [
              0,
              "#0d0887"
             ],
             [
              0.1111111111111111,
              "#46039f"
             ],
             [
              0.2222222222222222,
              "#7201a8"
             ],
             [
              0.3333333333333333,
              "#9c179e"
             ],
             [
              0.4444444444444444,
              "#bd3786"
             ],
             [
              0.5555555555555556,
              "#d8576b"
             ],
             [
              0.6666666666666666,
              "#ed7953"
             ],
             [
              0.7777777777777778,
              "#fb9f3a"
             ],
             [
              0.8888888888888888,
              "#fdca26"
             ],
             [
              1,
              "#f0f921"
             ]
            ],
            "type": "surface"
           }
          ],
          "table": [
           {
            "cells": {
             "fill": {
              "color": "#EBF0F8"
             },
             "line": {
              "color": "white"
             }
            },
            "header": {
             "fill": {
              "color": "#C8D4E3"
             },
             "line": {
              "color": "white"
             }
            },
            "type": "table"
           }
          ]
         },
         "layout": {
          "annotationdefaults": {
           "arrowcolor": "#2a3f5f",
           "arrowhead": 0,
           "arrowwidth": 1
          },
          "autotypenumbers": "strict",
          "coloraxis": {
           "colorbar": {
            "outlinewidth": 0,
            "ticks": ""
           }
          },
          "colorscale": {
           "diverging": [
            [
             0,
             "#8e0152"
            ],
            [
             0.1,
             "#c51b7d"
            ],
            [
             0.2,
             "#de77ae"
            ],
            [
             0.3,
             "#f1b6da"
            ],
            [
             0.4,
             "#fde0ef"
            ],
            [
             0.5,
             "#f7f7f7"
            ],
            [
             0.6,
             "#e6f5d0"
            ],
            [
             0.7,
             "#b8e186"
            ],
            [
             0.8,
             "#7fbc41"
            ],
            [
             0.9,
             "#4d9221"
            ],
            [
             1,
             "#276419"
            ]
           ],
           "sequential": [
            [
             0,
             "#0d0887"
            ],
            [
             0.1111111111111111,
             "#46039f"
            ],
            [
             0.2222222222222222,
             "#7201a8"
            ],
            [
             0.3333333333333333,
             "#9c179e"
            ],
            [
             0.4444444444444444,
             "#bd3786"
            ],
            [
             0.5555555555555556,
             "#d8576b"
            ],
            [
             0.6666666666666666,
             "#ed7953"
            ],
            [
             0.7777777777777778,
             "#fb9f3a"
            ],
            [
             0.8888888888888888,
             "#fdca26"
            ],
            [
             1,
             "#f0f921"
            ]
           ],
           "sequentialminus": [
            [
             0,
             "#0d0887"
            ],
            [
             0.1111111111111111,
             "#46039f"
            ],
            [
             0.2222222222222222,
             "#7201a8"
            ],
            [
             0.3333333333333333,
             "#9c179e"
            ],
            [
             0.4444444444444444,
             "#bd3786"
            ],
            [
             0.5555555555555556,
             "#d8576b"
            ],
            [
             0.6666666666666666,
             "#ed7953"
            ],
            [
             0.7777777777777778,
             "#fb9f3a"
            ],
            [
             0.8888888888888888,
             "#fdca26"
            ],
            [
             1,
             "#f0f921"
            ]
           ]
          },
          "colorway": [
           "#636efa",
           "#EF553B",
           "#00cc96",
           "#ab63fa",
           "#FFA15A",
           "#19d3f3",
           "#FF6692",
           "#B6E880",
           "#FF97FF",
           "#FECB52"
          ],
          "font": {
           "color": "#2a3f5f"
          },
          "geo": {
           "bgcolor": "white",
           "lakecolor": "white",
           "landcolor": "#E5ECF6",
           "showlakes": true,
           "showland": true,
           "subunitcolor": "white"
          },
          "hoverlabel": {
           "align": "left"
          },
          "hovermode": "closest",
          "mapbox": {
           "style": "light"
          },
          "paper_bgcolor": "white",
          "plot_bgcolor": "#E5ECF6",
          "polar": {
           "angularaxis": {
            "gridcolor": "white",
            "linecolor": "white",
            "ticks": ""
           },
           "bgcolor": "#E5ECF6",
           "radialaxis": {
            "gridcolor": "white",
            "linecolor": "white",
            "ticks": ""
           }
          },
          "scene": {
           "xaxis": {
            "backgroundcolor": "#E5ECF6",
            "gridcolor": "white",
            "gridwidth": 2,
            "linecolor": "white",
            "showbackground": true,
            "ticks": "",
            "zerolinecolor": "white"
           },
           "yaxis": {
            "backgroundcolor": "#E5ECF6",
            "gridcolor": "white",
            "gridwidth": 2,
            "linecolor": "white",
            "showbackground": true,
            "ticks": "",
            "zerolinecolor": "white"
           },
           "zaxis": {
            "backgroundcolor": "#E5ECF6",
            "gridcolor": "white",
            "gridwidth": 2,
            "linecolor": "white",
            "showbackground": true,
            "ticks": "",
            "zerolinecolor": "white"
           }
          },
          "shapedefaults": {
           "line": {
            "color": "#2a3f5f"
           }
          },
          "ternary": {
           "aaxis": {
            "gridcolor": "white",
            "linecolor": "white",
            "ticks": ""
           },
           "baxis": {
            "gridcolor": "white",
            "linecolor": "white",
            "ticks": ""
           },
           "bgcolor": "#E5ECF6",
           "caxis": {
            "gridcolor": "white",
            "linecolor": "white",
            "ticks": ""
           }
          },
          "title": {
           "x": 0.05
          },
          "xaxis": {
           "automargin": true,
           "gridcolor": "white",
           "linecolor": "white",
           "ticks": "",
           "title": {
            "standoff": 15
           },
           "zerolinecolor": "white",
           "zerolinewidth": 2
          },
          "yaxis": {
           "automargin": true,
           "gridcolor": "white",
           "linecolor": "white",
           "ticks": "",
           "title": {
            "standoff": 15
           },
           "zerolinecolor": "white",
           "zerolinewidth": 2
          }
         }
        },
        "xaxis": {
         "anchor": "y",
         "domain": [
          0,
          1
         ],
         "title": {
          "text": "GDP"
         }
        },
        "yaxis": {
         "anchor": "x",
         "domain": [
          0,
          1
         ],
         "title": {
          "text": "Gini"
         }
        }
       }
      },
      "text/html": [
       "<div>                            <div id=\"f3481da2-648b-4825-bfd1-3e7336e70a4b\" class=\"plotly-graph-div\" style=\"height:525px; width:100%;\"></div>            <script type=\"text/javascript\">                require([\"plotly\"], function(Plotly) {                    window.PLOTLYENV=window.PLOTLYENV || {};                                    if (document.getElementById(\"f3481da2-648b-4825-bfd1-3e7336e70a4b\")) {                    Plotly.newPlot(                        \"f3481da2-648b-4825-bfd1-3e7336e70a4b\",                        [{\"customdata\":[[\"Albania\"],[\"Algeria\"],[\"Angola\"],[\"Argentina\"],[\"Armenia\"],[\"Australia\"],[\"Austria\"],[\"Azerbaijan\"],[\"Bangladesh\"],[\"Belarus\"],[\"Belgium\"],[\"Belize\"],[\"Benin\"],[\"Bhutan\"],[\"Bolivia\"],[\"Bosnia and Herzegovina\"],[\"Botswana\"],[\"Brazil\"],[\"Bulgaria\"],[\"Burkina Faso\"],[\"Burundi\"],[\"Cabo Verde\"],[\"Cameroon\"],[\"Canada\"],[\"Central African Republic\"],[\"Chad\"],[\"Chile\"],[\"China\"],[\"Colombia\"],[\"Comoros\"],[\"Congo, Dem. Rep.\"],[\"Congo, Rep.\"],[\"Costa Rica\"],[\"Cote d'Ivoire\"],[\"Croatia\"],[\"Cyprus\"],[\"Czech Republic\"],[\"Denmark\"],[\"Djibouti\"],[\"Dominican Republic\"],[\"Ecuador\"],[\"Egypt, Arab Rep.\"],[\"El Salvador\"],[\"Estonia\"],[\"Eswatini\"],[\"Ethiopia\"],[\"Fiji\"],[\"Finland\"],[\"France\"],[\"Gabon\"],[\"Gambia, The\"],[\"Georgia\"],[\"Germany\"],[\"Ghana\"],[\"Greece\"],[\"Guatemala\"],[\"Guinea\"],[\"Guinea-Bissau\"],[\"Guyana\"],[\"Haiti\"],[\"Honduras\"],[\"Hungary\"],[\"Iceland\"],[\"India\"],[\"Indonesia\"],[\"Iran, Islamic Rep.\"],[\"Iraq\"],[\"Ireland\"],[\"Israel\"],[\"Italy\"],[\"Jamaica\"],[\"Japan\"],[\"Jordan\"],[\"Kazakhstan\"],[\"Kenya\"],[\"Kiribati\"],[\"Korea, Rep.\"],[\"Kosovo\"],[\"Kyrgyz Republic\"],[\"Lao PDR\"],[\"Latvia\"],[\"Lebanon\"],[\"Lesotho\"],[\"Liberia\"],[\"Lithuania\"],[\"Luxembourg\"],[\"Madagascar\"],[\"Malawi\"],[\"Malaysia\"],[\"Maldives\"],[\"Mali\"],[\"Malta\"],[\"Mauritania\"],[\"Mauritius\"],[\"Mexico\"],[\"Micronesia, Fed. Sts.\"],[\"Moldova\"],[\"Mongolia\"],[\"Montenegro\"],[\"Morocco\"],[\"Mozambique\"],[\"Myanmar\"],[\"Namibia\"],[\"Nauru\"],[\"Nepal\"],[\"Netherlands\"],[\"Nicaragua\"],[\"Niger\"],[\"Nigeria\"],[\"North Macedonia\"],[\"Norway\"],[\"Pakistan\"],[\"Panama\"],[\"Papua New Guinea\"],[\"Paraguay\"],[\"Peru\"],[\"Philippines\"],[\"Poland\"],[\"Portugal\"],[\"Romania\"],[\"Russian Federation\"],[\"Rwanda\"],[\"Samoa\"],[\"Sao Tome and Principe\"],[\"Senegal\"],[\"Serbia\"],[\"Seychelles\"],[\"Sierra Leone\"],[\"Slovak Republic\"],[\"Slovenia\"],[\"Solomon Islands\"],[\"Somalia\"],[\"South Africa\"],[\"Spain\"],[\"Sri Lanka\"],[\"St. Lucia\"],[\"Sudan\"],[\"Suriname\"],[\"Sweden\"],[\"Switzerland\"],[\"Tajikistan\"],[\"Tanzania\"],[\"Thailand\"],[\"Timor-Leste\"],[\"Togo\"],[\"Tonga\"],[\"Trinidad and Tobago\"],[\"Tunisia\"],[\"Turkey\"],[\"Turkmenistan\"],[\"Tuvalu\"],[\"Uganda\"],[\"Ukraine\"],[\"United Arab Emirates\"],[\"United Kingdom\"],[\"United States\"],[\"Uruguay\"],[\"Uzbekistan\"],[\"Vanuatu\"],[\"Vietnam\"],[\"West Bank and Gaza\"],[\"Zambia\"],[\"Zimbabwe\"]],\"hovertemplate\":\"GDP=%{x}<br>Gini=%{y}<br>Population=%{marker.size}<br>Country=%{customdata[0]}<extra></extra>\",\"legendgroup\":\"\",\"marker\":{\"color\":\"#636efa\",\"size\":[2837743.000000002,43851042.99999995,32866267.999999944,45376762.99999998,2963233.9999999995,25687041.00000002,8917205.000000002,10110116.000000006,164689382.99999988,9398861.000000013,11555997.00000002,397621.0000000002,12123198.000000013,771611.9999999999,11673029.000000007,3280814.9999999986,2351625.0,212559408.99999982,6927288.000000004,20903277.999999974,11890780.999999994,555987.9999999995,26545863.999999955,38005238.00000007,4829764.0,16425858.999999972,19116209.00000001,1402111999.9999993,50882883.99999998,869594.9999999999,89561404.00000001,5518091.999999995,5094114.000000002,26378274.999999993,4047200.000000002,1207361.0,10698896.000000017,5831404.0,988001.9999999992,10847904.000000011,17643060.00000001,102334402.99999987,6486200.999999996,1331056.9999999995,1160164.0,114963583.00000012,896443.9999999995,5530718.999999997,67391581.99999991,2225727.999999999,2416664.0000000023,3714000.000000001,83240524.99999991,31072944.99999999,10715549.000000017,16858332.999999978,13132792.000000006,1967998.0000000007,786558.9999999998,11402533.000000011,9904608.000000006,9749763.00000001,366424.9999999998,1380004385.0000007,273523621.0000001,83992952.99999993,40222503.00000006,4994724.000000004,9216900.000000011,59554023.0000001,2961161.0000000014,125836021.00000012,10203139.999999989,18754439.99999998,53771299.999999985,119445.99999999994,51780579.00000009,1775377.999999999,6591599.999999995,7275556.000000002,1901548.0000000014,6825441.999999997,2142252.0,5057677.0,2794699.999999999,632274.9999999999,27691019.000000015,19129954.99999997,32365997.999999996,540542.0000000003,20250834.000000034,525284.9999999999,4649659.999999996,1265740.0000000005,128932752.99999991,115020.99999999994,2617819.9999999995,3278292.000000002,621718.0000000001,36910557.99999996,31255435.00000001,54409794.000000075,2540916.0,10833.999999999996,29136807.99999997,17441138.999999978,6624553.999999995,24206636.00000001,206139587.00000036,2083380.000000001,5379475.000000004,220892330.99999976,4314767.999999998,8947027.000000007,7132530.000000004,32971846.000000052,109581084.99999997,37950802.00000006,10305564.000000011,19286122.999999978,144104079.9999999,12952209.000000006,198410.0,219161.00000000006,16743930.000000007,6908223.999999994,98462.00000000003,7976985.0000000065,5458827.0,2100126.0,686878.0,15893219.000000007,59308690.00000006,47351566.999999925,21918999.999999966,183629.00000000015,43849269.00000007,586633.9999999997,10353442.00000001,8636895.999999996,9537641.99999999,59734212.999999985,69799978.00000009,1318442.0000000002,8278737.000000007,105697.00000000003,1399491.0000000012,11818617.99999998,84339067.00000012,6031186.999999995,11791.99999999999,45741000.00000001,44134693.00000005,9890400.000000011,67215293.00000001,329484123.00000054,3473726.999999999,34232049.99999996,307150.00000000023,97338582.99999987,4803269.000000004,18383955.999999993,14862927.000000004],\"sizemode\":\"area\",\"sizeref\":3505279.999999998,\"symbol\":\"circle\"},\"mode\":\"markers\",\"name\":\"\",\"orientation\":\"v\",\"showlegend\":false,\"type\":\"scatter\",\"x\":[4.123701763414967,4.028639534722656,3.792257446590357,4.294169033098794,4.1001166281057015,4.687509671942399,4.715465185582913,4.136709966130703,3.6828753351352224,4.2821273902409445,4.683137429762808,3.786743451978264,3.5215492196316207,4.037788929526896,3.8993692532181847,4.1565440385340455,4.205204593360963,4.148108317497899,4.349933924288132,3.3345565882551638,2.8639549407458436,3.7814006793609742,3.553439953710539,4.6614020938802545,2.967823772094935,3.181818547170975,4.367812803532254,4.215129694417979,4.128447508667017,3.4970262846645763,3.0302798990161763,3.5377115397193797,4.294009395681804,3.7138348644814405,4.422673987491234,4.575824731952581,4.583417993839304,4.747708586816334,3.738868899656011,4.230525887392708,4.014066634128394,4.077420509043292,3.906148734030053,4.55191845816912,3.92390260825562,3.3611283513876167,4.041292923775201,4.674501073025084,4.623514102117328,4.158358535455798,3.3343415256697972,4.148889488482064,4.706908505996168,3.7246840394748477,4.4359571182798785,3.9239319516803124,3.4266451652753798,3.2665764131696435,4.2713764122768145,3.4429626122947248,3.710826674868937,4.491470511687243,4.718333326447499,3.7866348374734096,4.058614305069289,4.09458630711264,3.9663884781902228,4.952738973398241,4.58366691972957,4.590977164508331,3.941588468016947,4.616791468448227,3.9919590833776293,4.403757803652248,3.6253577560578516,3.360197032499286,4.6258415670045485,4.032461421356281,3.6727045441967068,3.8924173392723502,4.476142902815939,4.066290513526821,3.357915012627763,3.1315682780586322,4.565044986434837,5.042422546727639,3.179017707563853,3.1722461987420485,4.422182133428003,4.115578784062429,3.345721274548679,4.593531322632211,3.697510116092958,4.289355346940338,4.252555734391396,3.5398803414389537,4.090777635159513,4.059588930819416,4.261946036618714,3.839876737180783,3.08958015833865,3.6574403841167973,3.9490880014735925,4.131214715501785,3.5797911056253695,4.734075913008364,3.7226454855383255,3.078049724407353,3.691675598531863,4.199985952602405,4.803360846709625,3.664902358490801,4.404523246647934,3.6129129482067994,4.091155784404659,4.051571009735583,3.9005627435072387,4.5083702094667855,4.507601620874122,4.45988415564563,4.422530550145549,3.3219525066810673,3.799046221497699,3.607627081745419,3.518525191018648,4.2603100559893585,4.386711048195948,3.216971268981919,4.481873024408447,4.5628605142812075,3.3949543168294145,2.9188747263326276,4.059419121516812,4.5588938570635404,4.09819160823287,4.088845033062679,3.604535563034259,4.207638966267173,4.704865085584051,4.835013597219921,3.563193063009382,3.4208359767959777,4.237716280800765,3.5025823986056435,3.323845318966767,3.8046932542303553,4.375264037376613,3.9880014296351285,4.45308871166446,4.191406855318173,3.644537364544703,3.3379772809597745,4.092615997736448,4.8268464689213815,4.619376461681005,4.779854167072804,4.334623219016361,3.8447361475133355,3.441348093628963,3.913831428616141,3.7319167140069616,3.5145524159599764,3.4384934199595936],\"xaxis\":\"x\",\"y\":[33.2,27.6,51.3,42.9,29.9,34.4,30.8,26.6,32.4,25.3,27.2,53.3,47.8,37.4,41.6,33.0,53.3,53.4,41.3,35.3,38.6,42.4,46.6,33.3,56.2,43.3,44.4,38.5,51.3,45.3,42.1,48.9,48.2,41.5,29.7,32.7,25.0,28.2,41.6,41.9,45.7,31.5,38.8,30.3,54.6,35.0,36.7,27.3,32.4,38.0,35.9,35.9,31.9,43.5,32.9,48.3,33.7,50.7,45.1,41.1,48.2,29.6,26.1,35.7,38.2,42.0,29.5,31.4,39.0,35.9,45.5,32.9,33.7,27.8,40.8,37.0,31.4,29.0,29.7,38.8,35.1,31.8,44.9,35.3,35.7,35.4,42.6,44.7,41.1,31.3,33.0,28.7,32.6,36.8,45.4,40.1,25.7,32.7,38.5,39.5,54.0,30.7,59.1,34.8,32.8,28.1,46.2,34.3,35.1,33.0,27.6,31.6,49.8,41.9,45.7,41.5,42.3,30.2,33.5,35.8,37.5,43.7,38.7,56.3,40.3,36.2,32.1,35.7,25.0,24.6,37.1,36.8,63.0,34.7,39.3,51.2,34.2,57.9,30.0,33.1,34.0,40.5,34.9,28.7,43.1,37.6,40.3,32.8,41.9,40.8,39.1,42.8,26.6,26.0,35.1,41.4,39.7,35.3,37.6,35.7,33.7,57.1,50.3],\"yaxis\":\"y\"}],                        {\"legend\":{\"itemsizing\":\"constant\",\"tracegroupgap\":0},\"margin\":{\"t\":60},\"template\":{\"data\":{\"bar\":[{\"error_x\":{\"color\":\"#2a3f5f\"},\"error_y\":{\"color\":\"#2a3f5f\"},\"marker\":{\"line\":{\"color\":\"#E5ECF6\",\"width\":0.5},\"pattern\":{\"fillmode\":\"overlay\",\"size\":10,\"solidity\":0.2}},\"type\":\"bar\"}],\"barpolar\":[{\"marker\":{\"line\":{\"color\":\"#E5ECF6\",\"width\":0.5},\"pattern\":{\"fillmode\":\"overlay\",\"size\":10,\"solidity\":0.2}},\"type\":\"barpolar\"}],\"carpet\":[{\"aaxis\":{\"endlinecolor\":\"#2a3f5f\",\"gridcolor\":\"white\",\"linecolor\":\"white\",\"minorgridcolor\":\"white\",\"startlinecolor\":\"#2a3f5f\"},\"baxis\":{\"endlinecolor\":\"#2a3f5f\",\"gridcolor\":\"white\",\"linecolor\":\"white\",\"minorgridcolor\":\"white\",\"startlinecolor\":\"#2a3f5f\"},\"type\":\"carpet\"}],\"choropleth\":[{\"colorbar\":{\"outlinewidth\":0,\"ticks\":\"\"},\"type\":\"choropleth\"}],\"contour\":[{\"colorbar\":{\"outlinewidth\":0,\"ticks\":\"\"},\"colorscale\":[[0.0,\"#0d0887\"],[0.1111111111111111,\"#46039f\"],[0.2222222222222222,\"#7201a8\"],[0.3333333333333333,\"#9c179e\"],[0.4444444444444444,\"#bd3786\"],[0.5555555555555556,\"#d8576b\"],[0.6666666666666666,\"#ed7953\"],[0.7777777777777778,\"#fb9f3a\"],[0.8888888888888888,\"#fdca26\"],[1.0,\"#f0f921\"]],\"type\":\"contour\"}],\"contourcarpet\":[{\"colorbar\":{\"outlinewidth\":0,\"ticks\":\"\"},\"type\":\"contourcarpet\"}],\"heatmap\":[{\"colorbar\":{\"outlinewidth\":0,\"ticks\":\"\"},\"colorscale\":[[0.0,\"#0d0887\"],[0.1111111111111111,\"#46039f\"],[0.2222222222222222,\"#7201a8\"],[0.3333333333333333,\"#9c179e\"],[0.4444444444444444,\"#bd3786\"],[0.5555555555555556,\"#d8576b\"],[0.6666666666666666,\"#ed7953\"],[0.7777777777777778,\"#fb9f3a\"],[0.8888888888888888,\"#fdca26\"],[1.0,\"#f0f921\"]],\"type\":\"heatmap\"}],\"heatmapgl\":[{\"colorbar\":{\"outlinewidth\":0,\"ticks\":\"\"},\"colorscale\":[[0.0,\"#0d0887\"],[0.1111111111111111,\"#46039f\"],[0.2222222222222222,\"#7201a8\"],[0.3333333333333333,\"#9c179e\"],[0.4444444444444444,\"#bd3786\"],[0.5555555555555556,\"#d8576b\"],[0.6666666666666666,\"#ed7953\"],[0.7777777777777778,\"#fb9f3a\"],[0.8888888888888888,\"#fdca26\"],[1.0,\"#f0f921\"]],\"type\":\"heatmapgl\"}],\"histogram\":[{\"marker\":{\"pattern\":{\"fillmode\":\"overlay\",\"size\":10,\"solidity\":0.2}},\"type\":\"histogram\"}],\"histogram2d\":[{\"colorbar\":{\"outlinewidth\":0,\"ticks\":\"\"},\"colorscale\":[[0.0,\"#0d0887\"],[0.1111111111111111,\"#46039f\"],[0.2222222222222222,\"#7201a8\"],[0.3333333333333333,\"#9c179e\"],[0.4444444444444444,\"#bd3786\"],[0.5555555555555556,\"#d8576b\"],[0.6666666666666666,\"#ed7953\"],[0.7777777777777778,\"#fb9f3a\"],[0.8888888888888888,\"#fdca26\"],[1.0,\"#f0f921\"]],\"type\":\"histogram2d\"}],\"histogram2dcontour\":[{\"colorbar\":{\"outlinewidth\":0,\"ticks\":\"\"},\"colorscale\":[[0.0,\"#0d0887\"],[0.1111111111111111,\"#46039f\"],[0.2222222222222222,\"#7201a8\"],[0.3333333333333333,\"#9c179e\"],[0.4444444444444444,\"#bd3786\"],[0.5555555555555556,\"#d8576b\"],[0.6666666666666666,\"#ed7953\"],[0.7777777777777778,\"#fb9f3a\"],[0.8888888888888888,\"#fdca26\"],[1.0,\"#f0f921\"]],\"type\":\"histogram2dcontour\"}],\"mesh3d\":[{\"colorbar\":{\"outlinewidth\":0,\"ticks\":\"\"},\"type\":\"mesh3d\"}],\"parcoords\":[{\"line\":{\"colorbar\":{\"outlinewidth\":0,\"ticks\":\"\"}},\"type\":\"parcoords\"}],\"pie\":[{\"automargin\":true,\"type\":\"pie\"}],\"scatter\":[{\"marker\":{\"colorbar\":{\"outlinewidth\":0,\"ticks\":\"\"}},\"type\":\"scatter\"}],\"scatter3d\":[{\"line\":{\"colorbar\":{\"outlinewidth\":0,\"ticks\":\"\"}},\"marker\":{\"colorbar\":{\"outlinewidth\":0,\"ticks\":\"\"}},\"type\":\"scatter3d\"}],\"scattercarpet\":[{\"marker\":{\"colorbar\":{\"outlinewidth\":0,\"ticks\":\"\"}},\"type\":\"scattercarpet\"}],\"scattergeo\":[{\"marker\":{\"colorbar\":{\"outlinewidth\":0,\"ticks\":\"\"}},\"type\":\"scattergeo\"}],\"scattergl\":[{\"marker\":{\"colorbar\":{\"outlinewidth\":0,\"ticks\":\"\"}},\"type\":\"scattergl\"}],\"scattermapbox\":[{\"marker\":{\"colorbar\":{\"outlinewidth\":0,\"ticks\":\"\"}},\"type\":\"scattermapbox\"}],\"scatterpolar\":[{\"marker\":{\"colorbar\":{\"outlinewidth\":0,\"ticks\":\"\"}},\"type\":\"scatterpolar\"}],\"scatterpolargl\":[{\"marker\":{\"colorbar\":{\"outlinewidth\":0,\"ticks\":\"\"}},\"type\":\"scatterpolargl\"}],\"scatterternary\":[{\"marker\":{\"colorbar\":{\"outlinewidth\":0,\"ticks\":\"\"}},\"type\":\"scatterternary\"}],\"surface\":[{\"colorbar\":{\"outlinewidth\":0,\"ticks\":\"\"},\"colorscale\":[[0.0,\"#0d0887\"],[0.1111111111111111,\"#46039f\"],[0.2222222222222222,\"#7201a8\"],[0.3333333333333333,\"#9c179e\"],[0.4444444444444444,\"#bd3786\"],[0.5555555555555556,\"#d8576b\"],[0.6666666666666666,\"#ed7953\"],[0.7777777777777778,\"#fb9f3a\"],[0.8888888888888888,\"#fdca26\"],[1.0,\"#f0f921\"]],\"type\":\"surface\"}],\"table\":[{\"cells\":{\"fill\":{\"color\":\"#EBF0F8\"},\"line\":{\"color\":\"white\"}},\"header\":{\"fill\":{\"color\":\"#C8D4E3\"},\"line\":{\"color\":\"white\"}},\"type\":\"table\"}]},\"layout\":{\"annotationdefaults\":{\"arrowcolor\":\"#2a3f5f\",\"arrowhead\":0,\"arrowwidth\":1},\"autotypenumbers\":\"strict\",\"coloraxis\":{\"colorbar\":{\"outlinewidth\":0,\"ticks\":\"\"}},\"colorscale\":{\"diverging\":[[0,\"#8e0152\"],[0.1,\"#c51b7d\"],[0.2,\"#de77ae\"],[0.3,\"#f1b6da\"],[0.4,\"#fde0ef\"],[0.5,\"#f7f7f7\"],[0.6,\"#e6f5d0\"],[0.7,\"#b8e186\"],[0.8,\"#7fbc41\"],[0.9,\"#4d9221\"],[1,\"#276419\"]],\"sequential\":[[0.0,\"#0d0887\"],[0.1111111111111111,\"#46039f\"],[0.2222222222222222,\"#7201a8\"],[0.3333333333333333,\"#9c179e\"],[0.4444444444444444,\"#bd3786\"],[0.5555555555555556,\"#d8576b\"],[0.6666666666666666,\"#ed7953\"],[0.7777777777777778,\"#fb9f3a\"],[0.8888888888888888,\"#fdca26\"],[1.0,\"#f0f921\"]],\"sequentialminus\":[[0.0,\"#0d0887\"],[0.1111111111111111,\"#46039f\"],[0.2222222222222222,\"#7201a8\"],[0.3333333333333333,\"#9c179e\"],[0.4444444444444444,\"#bd3786\"],[0.5555555555555556,\"#d8576b\"],[0.6666666666666666,\"#ed7953\"],[0.7777777777777778,\"#fb9f3a\"],[0.8888888888888888,\"#fdca26\"],[1.0,\"#f0f921\"]]},\"colorway\":[\"#636efa\",\"#EF553B\",\"#00cc96\",\"#ab63fa\",\"#FFA15A\",\"#19d3f3\",\"#FF6692\",\"#B6E880\",\"#FF97FF\",\"#FECB52\"],\"font\":{\"color\":\"#2a3f5f\"},\"geo\":{\"bgcolor\":\"white\",\"lakecolor\":\"white\",\"landcolor\":\"#E5ECF6\",\"showlakes\":true,\"showland\":true,\"subunitcolor\":\"white\"},\"hoverlabel\":{\"align\":\"left\"},\"hovermode\":\"closest\",\"mapbox\":{\"style\":\"light\"},\"paper_bgcolor\":\"white\",\"plot_bgcolor\":\"#E5ECF6\",\"polar\":{\"angularaxis\":{\"gridcolor\":\"white\",\"linecolor\":\"white\",\"ticks\":\"\"},\"bgcolor\":\"#E5ECF6\",\"radialaxis\":{\"gridcolor\":\"white\",\"linecolor\":\"white\",\"ticks\":\"\"}},\"scene\":{\"xaxis\":{\"backgroundcolor\":\"#E5ECF6\",\"gridcolor\":\"white\",\"gridwidth\":2,\"linecolor\":\"white\",\"showbackground\":true,\"ticks\":\"\",\"zerolinecolor\":\"white\"},\"yaxis\":{\"backgroundcolor\":\"#E5ECF6\",\"gridcolor\":\"white\",\"gridwidth\":2,\"linecolor\":\"white\",\"showbackground\":true,\"ticks\":\"\",\"zerolinecolor\":\"white\"},\"zaxis\":{\"backgroundcolor\":\"#E5ECF6\",\"gridcolor\":\"white\",\"gridwidth\":2,\"linecolor\":\"white\",\"showbackground\":true,\"ticks\":\"\",\"zerolinecolor\":\"white\"}},\"shapedefaults\":{\"line\":{\"color\":\"#2a3f5f\"}},\"ternary\":{\"aaxis\":{\"gridcolor\":\"white\",\"linecolor\":\"white\",\"ticks\":\"\"},\"baxis\":{\"gridcolor\":\"white\",\"linecolor\":\"white\",\"ticks\":\"\"},\"bgcolor\":\"#E5ECF6\",\"caxis\":{\"gridcolor\":\"white\",\"linecolor\":\"white\",\"ticks\":\"\"}},\"title\":{\"x\":0.05},\"xaxis\":{\"automargin\":true,\"gridcolor\":\"white\",\"linecolor\":\"white\",\"ticks\":\"\",\"title\":{\"standoff\":15},\"zerolinecolor\":\"white\",\"zerolinewidth\":2},\"yaxis\":{\"automargin\":true,\"gridcolor\":\"white\",\"linecolor\":\"white\",\"ticks\":\"\",\"title\":{\"standoff\":15},\"zerolinecolor\":\"white\",\"zerolinewidth\":2}}},\"xaxis\":{\"anchor\":\"y\",\"domain\":[0.0,1.0],\"title\":{\"text\":\"GDP\"}},\"yaxis\":{\"anchor\":\"x\",\"domain\":[0.0,1.0],\"title\":{\"text\":\"Gini\"}}},                        {\"responsive\": true}                    ).then(function(){\n",
       "                            \n",
       "var gd = document.getElementById('f3481da2-648b-4825-bfd1-3e7336e70a4b');\n",
       "var x = new MutationObserver(function (mutations, observer) {{\n",
       "        var display = window.getComputedStyle(gd).display;\n",
       "        if (!display || display === 'none') {{\n",
       "            console.log([gd, 'removed!']);\n",
       "            Plotly.purge(gd);\n",
       "            observer.disconnect();\n",
       "        }}\n",
       "}});\n",
       "\n",
       "// Listen for the removal of the full notebook cells\n",
       "var notebookContainer = gd.closest('#notebook-container');\n",
       "if (notebookContainer) {{\n",
       "    x.observe(notebookContainer, {childList: true});\n",
       "}}\n",
       "\n",
       "// Listen for the clearing of the current output cell\n",
       "var outputEl = gd.closest('.output');\n",
       "if (outputEl) {{\n",
       "    x.observe(outputEl, {childList: true});\n",
       "}}\n",
       "\n",
       "                        })                };                });            </script>        </div>"
      ]
     },
     "metadata": {},
     "output_type": "display_data"
    }
   ],
   "source": [
    "# x and y given as DataFrame columns\n",
    "import plotly.express as px\n",
    "fig = px.scatter(df, x=\"GDP\", y=\"Gini\", size=\"Population\", hover_data=['Country'])\n",
    "fig.show()"
   ]
  },
  {
   "cell_type": "code",
   "execution_count": null,
   "metadata": {},
   "outputs": [],
   "source": []
  }
 ],
 "metadata": {
  "kernelspec": {
   "display_name": "Python 3",
   "language": "python",
   "name": "python3"
  },
  "language_info": {
   "codemirror_mode": {
    "name": "ipython",
    "version": 3
   },
   "file_extension": ".py",
   "mimetype": "text/x-python",
   "name": "python",
   "nbconvert_exporter": "python",
   "pygments_lexer": "ipython3",
   "version": "3.8.5"
  }
 },
 "nbformat": 4,
 "nbformat_minor": 4
}
