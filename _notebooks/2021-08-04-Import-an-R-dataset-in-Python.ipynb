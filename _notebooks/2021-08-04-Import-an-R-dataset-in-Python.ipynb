{
 "cells": [
  {
   "cell_type": "markdown",
   "metadata": {},
   "source": [
    "# Import an R dataset in Python\n",
    "> Import an R dataset in Python.\n",
    "\n",
    "- toc: true \n",
    "- badges: true\n",
    "- comments: true\n",
    "- categories: [jupyter]\n",
    "- image: images/chart-preview.png"
   ]
  },
  {
   "cell_type": "markdown",
   "metadata": {},
   "source": [
    "I recently discovered the [Rdatasets project](https://vincentarelbundock.github.io/Rdatasets/) which gives access to the datasets available in R's core datasets package and many other common R packages. There is a nice integration with [The Datasets Package](https://www.statsmodels.org/devel/datasets/index.html#datasets-index--page-root), which is the place where I originally discovered the [Rdatasets project](https://vincentarelbundock.github.io/Rdatasets/) (see [here](https://www.statsmodels.org/devel/datasets/index.html#using-datasets-from-r)). This is particularly revelant to people like me working on Survival Analysis where R is still predominant."
   ]
  },
  {
   "cell_type": "markdown",
   "metadata": {},
   "source": [
    "The list of available datasets can be found [here](https://vincentarelbundock.github.io/Rdatasets/articles/data.html) and instructions to add new R datasets can be found [here](https://vincentarelbundock.github.io/Rdatasets/#adding-data). I have made requests to add new datasets from [`asaur`](https://github.com/vincentarelbundock/Rdatasets/issues/13) and [`mstate`](https://github.com/vincentarelbundock/Rdatasets/issues/14) packages and the maintener, [Professor Vincent Arel-Bundock](http://arelbundock.com/), has responded very quickly (the datasets have been already added)."
   ]
  },
  {
   "cell_type": "markdown",
   "metadata": {},
   "source": [
    "From the [list of available datasets](https://vincentarelbundock.github.io/Rdatasets/articles/data.html), we need to seach what's the dataset name (item name) and from which R package it's coming from."
   ]
  },
  {
   "cell_type": "markdown",
   "metadata": {},
   "source": [
    "For example, let's say we want to import the [pharmacoSmoking](https://vincentarelbundock.github.io/Rdatasets/doc/asaur/pharmacoSmoking.html) dataset from the [`asaur`](https://cran.r-project.org/web/packages/asaur/index.html) package. "
   ]
  },
  {
   "cell_type": "markdown",
   "metadata": {},
   "source": [
    "We will use [The Datasets Package](https://www.statsmodels.org/devel/datasets/index.html#datasets-index--page-root) from [statsmodels](https://www.statsmodels.org/stable/)."
   ]
  },
  {
   "cell_type": "code",
   "execution_count": 1,
   "metadata": {
    "ExecuteTime": {
     "end_time": "2021-08-04T16:48:29.390976Z",
     "start_time": "2021-08-04T16:48:24.441951Z"
    }
   },
   "outputs": [],
   "source": [
    "import statsmodels.api as sm"
   ]
  },
  {
   "cell_type": "markdown",
   "metadata": {},
   "source": [
    "Then we need to use the function `get_rdataset` with the name of the item and the name of the package it's coming from."
   ]
  },
  {
   "cell_type": "code",
   "execution_count": 2,
   "metadata": {
    "ExecuteTime": {
     "end_time": "2021-08-04T16:49:32.275858Z",
     "start_time": "2021-08-04T16:49:30.578427Z"
    }
   },
   "outputs": [],
   "source": [
    "pharmacoSmoking = sm.datasets.get_rdataset(\"pharmacoSmoking\", \"asaur\")"
   ]
  },
  {
   "cell_type": "markdown",
   "metadata": {},
   "source": [
    "We can take a look at the documentation with the `__doc__` attribute."
   ]
  },
  {
   "cell_type": "code",
   "execution_count": 3,
   "metadata": {
    "ExecuteTime": {
     "end_time": "2021-08-04T16:53:05.156492Z",
     "start_time": "2021-08-04T16:53:05.145442Z"
    }
   },
   "outputs": [
    {
     "name": "stdout",
     "output_type": "stream",
     "text": [
      "=============== ===============\n",
      "pharmacoSmoking R Documentation\n",
      "=============== ===============\n",
      "\n",
      "pharmacoSmoking\n",
      "---------------\n",
      "\n",
      "Description\n",
      "~~~~~~~~~~~\n",
      "\n",
      "Randomized trial of triple therapy vs. patch for smoking cessation.\n",
      "\n",
      "Usage\n",
      "~~~~~\n",
      "\n",
      "::\n",
      "\n",
      "   data(\"pharmacoSmoking\")\n",
      "\n",
      "Format\n",
      "~~~~~~\n",
      "\n",
      "A data frame with 125 observations on the following 14 variables.\n",
      "\n",
      "``id``\n",
      "   patient ID number\n",
      "\n",
      "``ttr``\n",
      "   Time in days until relapse\n",
      "\n",
      "``relapse``\n",
      "   Indicator of relapse (return to smoking)\n",
      "\n",
      "``grp``\n",
      "   Randomly assigned treatment group with levels ``combination`` or\n",
      "   ``patchOnly``\n",
      "\n",
      "``age``\n",
      "   Age in years at time of randomization\n",
      "\n",
      "``gender``\n",
      "   ``Female`` or ``Male``\n",
      "\n",
      "``race``\n",
      "   ``black``, ``hispanic``, ``white``, or ``other``\n",
      "\n",
      "``employment``\n",
      "   ``ft`` (full-time), ``pt`` (part-time), or ``other``\n",
      "\n",
      "``yearsSmoking``\n",
      "   Number of years the patient had been a smoker\n",
      "\n",
      "``levelSmoking``\n",
      "   ``heavy`` or ``light``\n",
      "\n",
      "``ageGroup2``\n",
      "   Age group with levels ``21-49`` or ``50+``\n",
      "\n",
      "``ageGroup4``\n",
      "   Age group with levels ``21-34``, ``35-49``, ``50-64``, or ``65+``\n",
      "\n",
      "``priorAttempts``\n",
      "   The number of prior attempts to quit smoking\n",
      "\n",
      "``longestNoSmoke``\n",
      "   The longest period of time, in days, that the patient has previously\n",
      "   gone without smoking\n",
      "\n",
      "Source\n",
      "~~~~~~\n",
      "\n",
      "This data is from a clinical trial described in Steinberg et al. (2009)\n",
      "\n",
      "References\n",
      "~~~~~~~~~~\n",
      "\n",
      "Steinberg, M.B. Greenhaus, S. Schmelzer, A.C. Bover, M.T., Foulds, J.,\n",
      "Hoover, D.R., and Carson, J.L. (2009) Triple-combination pharmacotherapy\n",
      "for medically ill smokers: A randomized trial. Annals of Internal\n",
      "Medicine 150, 447-454.\n",
      "\n",
      "Examples\n",
      "~~~~~~~~\n",
      "\n",
      "::\n",
      "\n",
      "   data(pharmacoSmoking)\n",
      "\n"
     ]
    }
   ],
   "source": [
    "print(pharmacoSmoking.__doc__)"
   ]
  },
  {
   "cell_type": "markdown",
   "metadata": {},
   "source": [
    "And access the data with the `data` attribute."
   ]
  },
  {
   "cell_type": "code",
   "execution_count": 4,
   "metadata": {
    "ExecuteTime": {
     "end_time": "2021-08-04T16:54:24.884182Z",
     "start_time": "2021-08-04T16:54:24.780671Z"
    }
   },
   "outputs": [
    {
     "data": {
      "text/html": [
       "<div>\n",
       "<style scoped>\n",
       "    .dataframe tbody tr th:only-of-type {\n",
       "        vertical-align: middle;\n",
       "    }\n",
       "\n",
       "    .dataframe tbody tr th {\n",
       "        vertical-align: top;\n",
       "    }\n",
       "\n",
       "    .dataframe thead th {\n",
       "        text-align: right;\n",
       "    }\n",
       "</style>\n",
       "<table border=\"1\" class=\"dataframe\">\n",
       "  <thead>\n",
       "    <tr style=\"text-align: right;\">\n",
       "      <th></th>\n",
       "      <th>id</th>\n",
       "      <th>ttr</th>\n",
       "      <th>relapse</th>\n",
       "      <th>grp</th>\n",
       "      <th>age</th>\n",
       "      <th>gender</th>\n",
       "      <th>race</th>\n",
       "      <th>employment</th>\n",
       "      <th>yearsSmoking</th>\n",
       "      <th>levelSmoking</th>\n",
       "      <th>ageGroup2</th>\n",
       "      <th>ageGroup4</th>\n",
       "      <th>priorAttempts</th>\n",
       "      <th>longestNoSmoke</th>\n",
       "    </tr>\n",
       "  </thead>\n",
       "  <tbody>\n",
       "    <tr>\n",
       "      <th>0</th>\n",
       "      <td>21</td>\n",
       "      <td>182</td>\n",
       "      <td>0</td>\n",
       "      <td>patchOnly</td>\n",
       "      <td>36</td>\n",
       "      <td>Male</td>\n",
       "      <td>white</td>\n",
       "      <td>ft</td>\n",
       "      <td>26</td>\n",
       "      <td>heavy</td>\n",
       "      <td>21-49</td>\n",
       "      <td>35-49</td>\n",
       "      <td>0</td>\n",
       "      <td>0</td>\n",
       "    </tr>\n",
       "    <tr>\n",
       "      <th>1</th>\n",
       "      <td>113</td>\n",
       "      <td>14</td>\n",
       "      <td>1</td>\n",
       "      <td>patchOnly</td>\n",
       "      <td>41</td>\n",
       "      <td>Male</td>\n",
       "      <td>white</td>\n",
       "      <td>other</td>\n",
       "      <td>27</td>\n",
       "      <td>heavy</td>\n",
       "      <td>21-49</td>\n",
       "      <td>35-49</td>\n",
       "      <td>3</td>\n",
       "      <td>90</td>\n",
       "    </tr>\n",
       "    <tr>\n",
       "      <th>2</th>\n",
       "      <td>39</td>\n",
       "      <td>5</td>\n",
       "      <td>1</td>\n",
       "      <td>combination</td>\n",
       "      <td>25</td>\n",
       "      <td>Female</td>\n",
       "      <td>white</td>\n",
       "      <td>other</td>\n",
       "      <td>12</td>\n",
       "      <td>heavy</td>\n",
       "      <td>21-49</td>\n",
       "      <td>21-34</td>\n",
       "      <td>3</td>\n",
       "      <td>21</td>\n",
       "    </tr>\n",
       "    <tr>\n",
       "      <th>3</th>\n",
       "      <td>80</td>\n",
       "      <td>16</td>\n",
       "      <td>1</td>\n",
       "      <td>combination</td>\n",
       "      <td>54</td>\n",
       "      <td>Male</td>\n",
       "      <td>white</td>\n",
       "      <td>ft</td>\n",
       "      <td>39</td>\n",
       "      <td>heavy</td>\n",
       "      <td>50+</td>\n",
       "      <td>50-64</td>\n",
       "      <td>0</td>\n",
       "      <td>0</td>\n",
       "    </tr>\n",
       "    <tr>\n",
       "      <th>4</th>\n",
       "      <td>87</td>\n",
       "      <td>0</td>\n",
       "      <td>1</td>\n",
       "      <td>combination</td>\n",
       "      <td>45</td>\n",
       "      <td>Male</td>\n",
       "      <td>white</td>\n",
       "      <td>other</td>\n",
       "      <td>30</td>\n",
       "      <td>heavy</td>\n",
       "      <td>21-49</td>\n",
       "      <td>35-49</td>\n",
       "      <td>0</td>\n",
       "      <td>0</td>\n",
       "    </tr>\n",
       "  </tbody>\n",
       "</table>\n",
       "</div>"
      ],
      "text/plain": [
       "    id  ttr  relapse          grp  age  gender   race employment  \\\n",
       "0   21  182        0    patchOnly   36    Male  white         ft   \n",
       "1  113   14        1    patchOnly   41    Male  white      other   \n",
       "2   39    5        1  combination   25  Female  white      other   \n",
       "3   80   16        1  combination   54    Male  white         ft   \n",
       "4   87    0        1  combination   45    Male  white      other   \n",
       "\n",
       "   yearsSmoking levelSmoking ageGroup2 ageGroup4  priorAttempts  \\\n",
       "0            26        heavy     21-49     35-49              0   \n",
       "1            27        heavy     21-49     35-49              3   \n",
       "2            12        heavy     21-49     21-34              3   \n",
       "3            39        heavy       50+     50-64              0   \n",
       "4            30        heavy     21-49     35-49              0   \n",
       "\n",
       "   longestNoSmoke  \n",
       "0               0  \n",
       "1              90  \n",
       "2              21  \n",
       "3               0  \n",
       "4               0  "
      ]
     },
     "execution_count": 4,
     "metadata": {},
     "output_type": "execute_result"
    }
   ],
   "source": [
    "pharmacoSmoking.data.head()"
   ]
  },
  {
   "cell_type": "code",
   "execution_count": null,
   "metadata": {},
   "outputs": [],
   "source": []
  }
 ],
 "metadata": {
  "kernelspec": {
   "display_name": "Python 3",
   "language": "python",
   "name": "python3"
  },
  "language_info": {
   "codemirror_mode": {
    "name": "ipython",
    "version": 3
   },
   "file_extension": ".py",
   "mimetype": "text/x-python",
   "name": "python",
   "nbconvert_exporter": "python",
   "pygments_lexer": "ipython3",
   "version": "3.8.5"
  }
 },
 "nbformat": 4,
 "nbformat_minor": 4
}
